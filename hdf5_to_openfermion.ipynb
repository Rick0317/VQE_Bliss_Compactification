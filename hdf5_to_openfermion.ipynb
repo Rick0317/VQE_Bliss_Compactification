{
 "cells": [
  {
   "cell_type": "code",
   "id": "initial_id",
   "metadata": {
    "collapsed": true,
    "ExecuteTime": {
     "end_time": "2024-12-03T18:41:36.124765Z",
     "start_time": "2024-12-03T18:41:34.337007Z"
    }
   },
   "source": [
    "import pickle\n",
    "import h5py\n",
    "from openfermion import FermionOperator, get_majorana_operator"
   ],
   "outputs": [],
   "execution_count": 2
  },
  {
   "metadata": {
    "ExecuteTime": {
     "end_time": "2024-12-03T18:41:36.737823Z",
     "start_time": "2024-12-03T18:41:36.728051Z"
    }
   },
   "cell_type": "code",
   "source": [
    "with h5py.File(\"h2_commutator_tensors.h5\", \"r\") as fid:\n",
    "\n",
    "    # Access the \"BLISS_HAM\" group\n",
    "    mol_data_group = fid[\"BLISS_HAM\"]\n",
    "    \n",
    "    # Read multi-dimensional data\n",
    "    h_const = mol_data_group[\"h_const\"][:]\n",
    "    obt = mol_data_group[\"obt\"][:]\n",
    "    tbt = mol_data_group[\"tbt\"][:]\n",
    "    threebt = mol_data_group[\"threebt\"][:]\n",
    "    eta = mol_data_group[\"eta\"][()]"
   ],
   "id": "37258e48cef78162",
   "outputs": [],
   "execution_count": 3
  },
  {
   "metadata": {
    "ExecuteTime": {
     "end_time": "2024-12-03T18:41:37.277528Z",
     "start_time": "2024-12-03T18:41:37.275827Z"
    }
   },
   "cell_type": "code",
   "source": "",
   "id": "c2753be8c4816da3",
   "outputs": [],
   "execution_count": 3
  },
  {
   "metadata": {
    "ExecuteTime": {
     "end_time": "2024-12-03T18:41:37.641088Z",
     "start_time": "2024-12-03T18:41:37.637784Z"
    }
   },
   "cell_type": "code",
   "source": "print(tbt)",
   "id": "eb1f5f123f2f364c",
   "outputs": [
    {
     "name": "stdout",
     "output_type": "stream",
     "text": [
      "[[[[ 0.81176116  0.        ]\n",
      "   [ 0.          0.41817999]]\n",
      "\n",
      "  [[ 0.         -1.0701146 ]\n",
      "   [ 0.          0.        ]]]\n",
      "\n",
      "\n",
      " [[[ 0.          0.        ]\n",
      "   [-1.0701146   0.        ]]\n",
      "\n",
      "  [[ 0.41817999  0.        ]\n",
      "   [ 0.          0.02459882]]]]\n"
     ]
    }
   ],
   "execution_count": 4
  },
  {
   "metadata": {
    "ExecuteTime": {
     "end_time": "2024-12-03T18:41:38.068229Z",
     "start_time": "2024-12-03T18:41:38.054840Z"
    }
   },
   "cell_type": "code",
   "source": [
    "def construct_one_body_fermion_operator(ferm_op, obt):\n",
    "\n",
    "    num_orbitals = obt.shape[0]  # assuming h1e is square\n",
    "    num_spin_orbs = 2 * num_orbitals\n",
    "    for p in range(num_orbitals):\n",
    "        for q in range(num_orbitals):\n",
    "            coefficient = obt[p, q]\n",
    "            if coefficient != 0.0:\n",
    "                \n",
    "                term_alpha_alpha = FermionOperator(((2*p, 1), (2*q, 0)), coefficient)\n",
    "                ferm_op += term_alpha_alpha\n",
    "    \n",
    "                # Beta-beta: (2*p+1, 1) and (2*q+1, 0)\n",
    "                term_beta_beta = FermionOperator(((2*p+1, 1), (2*q+1, 0)), coefficient)\n",
    "                ferm_op += term_beta_beta\n",
    "    \n",
    "    return ferm_op\n",
    "\n",
    "\n",
    "def construct_two_body_fermion_operator(ferm_op, tbt):\n",
    "\n",
    "    num_orbitals = tbt.shape[0]  # assuming h1e is square\n",
    "    for p in range(num_orbitals):\n",
    "        for q in range(num_orbitals):\n",
    "            for r in range(num_orbitals):\n",
    "                for s in range(num_orbitals):\n",
    "                    coefficient = tbt[p, q, r, s]\n",
    "                    if coefficient != 0.0:\n",
    "                        term_1 = FermionOperator(((2*p, 1), (2*q, 0), (2*r, 1), (2*s, 0)), coefficient)\n",
    "                        term_2 = FermionOperator(((2*p + 1, 1), (2*q+1, 0), (2*r, 1), (2*s, 0)), coefficient)\n",
    "                        term_3 = FermionOperator(((2*p, 1), (2*q, 0), (2*r + 1, 1), (2*s + 1, 0)), coefficient)\n",
    "                        term_4 = FermionOperator(((2*p+1, 1), (2*q+1, 0), (2*r + 1, 1), (2*s + 1, 0)), coefficient)\n",
    "                        \n",
    "                        ferm_op += term_1 + term_2 + term_3 + term_4\n",
    "    \n",
    "    return ferm_op\n",
    "\n",
    "def construct_three_body_fermion_operator(ferm_op, threebt):\n",
    "    num_orbitals = threebt.shape[0]  # assuming h1e is square\n",
    "    for p in range(num_orbitals):\n",
    "        for q in range(num_orbitals):\n",
    "            for r in range(num_orbitals):\n",
    "                for s in range(num_orbitals):\n",
    "                    for m in range(num_orbitals):\n",
    "                        for n in range(num_orbitals):\n",
    "                            coefficient = threebt[p, q, r, s, m, n]\n",
    "                            if coefficient != 0.0:\n",
    "                                term_1 = FermionOperator(((2*p, 1), (2*q, 0), (2*r, 1), (2*s, 0), (2*m, 1), (2*n, 0)), coefficient)\n",
    "                                term_2 = FermionOperator(((2*p+1, 1), (2*q+1, 0), (2*r, 1), (2*s, 0), (2*m, 1), (2*n, 0)), coefficient)\n",
    "                                term_3 = FermionOperator(((2*p, 1), (2*q, 0), (2*r+1, 1), (2*s+1, 0), (2*m, 1), (2*n, 0)), coefficient)\n",
    "                                term_4 = FermionOperator(((2*p, 1), (2*q, 0), (2*r, 1), (2*s, 0), (2*m+1, 1), (2*n+1, 0)), coefficient)\n",
    "                                term_5 = FermionOperator(((2*p+1, 1), (2*q+1, 0), (2*r+1, 1), (2*s+1, 0), (2*m, 1), (2*n, 0)), coefficient)\n",
    "                                term_6 = FermionOperator(((2*p+1, 1), (2*q+1, 0), (2*r, 1), (2*s, 0), (2*m+1, 1), (2*n+1, 0)), coefficient)\n",
    "                                term_7 = FermionOperator(((2*p, 1), (2*q, 0), (2*r+1, 1), (2*s+1, 0), (2*m+1, 1), (2*n+1, 0)), coefficient)\n",
    "                                term_8 = FermionOperator(((2*p+1, 1), (2*q+1, 0), (2*r+1, 1), (2*s+1, 0), (2*m+1, 1), (2*n+1, 0)), coefficient)\n",
    "\n",
    "\n",
    "                                ferm_op += term_1 + term_2 + term_3 + term_4 + term_5 + term_6 + term_7 + term_8\n",
    "    \n",
    "    return ferm_op"
   ],
   "id": "9110bdbef15ccba6",
   "outputs": [],
   "execution_count": 5
  },
  {
   "metadata": {
    "ExecuteTime": {
     "end_time": "2024-12-03T18:41:38.772348Z",
     "start_time": "2024-12-03T18:41:38.768530Z"
    }
   },
   "cell_type": "code",
   "source": [
    "fermion_operator = FermionOperator()\n",
    "fermion_operator = construct_one_body_fermion_operator(fermion_operator, obt)\n",
    "fermion_operator = construct_two_body_fermion_operator(fermion_operator, tbt)\n",
    "fermion_operator = construct_three_body_fermion_operator(fermion_operator, threebt)"
   ],
   "id": "bf91ccce4f1f7e4e",
   "outputs": [],
   "execution_count": 6
  },
  {
   "metadata": {
    "ExecuteTime": {
     "end_time": "2024-12-03T18:41:43.656447Z",
     "start_time": "2024-12-03T18:41:43.651673Z"
    }
   },
   "cell_type": "code",
   "source": "print(fermion_operator)",
   "id": "bde84672f87cd6b3",
   "outputs": [
    {
     "name": "stdout",
     "output_type": "stream",
     "text": [
      "-3.2470446275102587 [0^ 0] +\n",
      "0.8117611568775646 [0^ 0 0^ 0] +\n",
      "0.8117611568775646 [0^ 0 1^ 1] +\n",
      "0.4181799899066242 [0^ 0 2^ 2] +\n",
      "0.4181799899066242 [0^ 0 3^ 3] +\n",
      "-1.0701145997683443 [0^ 2 0^ 2] +\n",
      "-1.0701145997683443 [0^ 2 1^ 3] +\n",
      "-3.2470446275102587 [1^ 1] +\n",
      "0.8117611568775646 [1^ 1 0^ 0] +\n",
      "0.8117611568775646 [1^ 1 1^ 1] +\n",
      "0.4181799899066242 [1^ 1 2^ 2] +\n",
      "0.4181799899066242 [1^ 1 3^ 3] +\n",
      "-1.0701145997683443 [1^ 3 0^ 2] +\n",
      "-1.0701145997683443 [1^ 3 1^ 3] +\n",
      "-1.0701145997683443 [2^ 0 2^ 0] +\n",
      "-1.0701145997683443 [2^ 0 3^ 1] +\n",
      "-0.09839529174273509 [2^ 2] +\n",
      "0.4181799899066242 [2^ 2 0^ 0] +\n",
      "0.3935811669709405 [2^ 2 0^ 0 0^ 0] +\n",
      "0.3935811669709405 [2^ 2 0^ 0 1^ 1] +\n",
      "0.4181799899066242 [2^ 2 1^ 1] +\n",
      "0.3935811669709405 [2^ 2 1^ 1 0^ 0] +\n",
      "0.3935811669709405 [2^ 2 1^ 1 1^ 1] +\n",
      "0.024598822935683773 [2^ 2 2^ 2] +\n",
      "-0.3935811669709405 [2^ 2 2^ 2 0^ 0] +\n",
      "-0.3935811669709405 [2^ 2 2^ 2 1^ 1] +\n",
      "0.024598822935683773 [2^ 2 3^ 3] +\n",
      "-0.3935811669709405 [2^ 2 3^ 3 0^ 0] +\n",
      "-0.3935811669709405 [2^ 2 3^ 3 1^ 1] +\n",
      "-1.0701145997683443 [3^ 1 2^ 0] +\n",
      "-1.0701145997683443 [3^ 1 3^ 1] +\n",
      "-0.09839529174273509 [3^ 3] +\n",
      "0.4181799899066242 [3^ 3 0^ 0] +\n",
      "0.3935811669709405 [3^ 3 0^ 0 0^ 0] +\n",
      "0.3935811669709405 [3^ 3 0^ 0 1^ 1] +\n",
      "0.4181799899066242 [3^ 3 1^ 1] +\n",
      "0.3935811669709405 [3^ 3 1^ 1 0^ 0] +\n",
      "0.3935811669709405 [3^ 3 1^ 1 1^ 1] +\n",
      "0.024598822935683773 [3^ 3 2^ 2] +\n",
      "-0.3935811669709405 [3^ 3 2^ 2 0^ 0] +\n",
      "-0.3935811669709405 [3^ 3 2^ 2 1^ 1] +\n",
      "0.024598822935683773 [3^ 3 3^ 3] +\n",
      "-0.3935811669709405 [3^ 3 3^ 3 0^ 0] +\n",
      "-0.3935811669709405 [3^ 3 3^ 3 1^ 1]\n"
     ]
    }
   ],
   "execution_count": 7
  },
  {
   "metadata": {
    "ExecuteTime": {
     "end_time": "2024-11-29T05:54:21.879964Z",
     "start_time": "2024-11-29T05:54:21.869793Z"
    }
   },
   "cell_type": "code",
   "source": [
    "with open(f'SolvableQubitHamiltonians/commutator_store/h2_commutator_blissed.pkl', 'wb') as f:\n",
    "    pickle.dump(fermion_operator, f)"
   ],
   "id": "882522b030bf57d5",
   "outputs": [],
   "execution_count": 11
  },
  {
   "metadata": {
    "ExecuteTime": {
     "end_time": "2024-12-03T17:56:19.136309Z",
     "start_time": "2024-12-03T17:56:19.016509Z"
    }
   },
   "cell_type": "code",
   "source": "print(fermion_operator)",
   "id": "e53670221f129874",
   "outputs": [
    {
     "ename": "NameError",
     "evalue": "name 'fermion_operator' is not defined",
     "output_type": "error",
     "traceback": [
      "\u001B[0;31m---------------------------------------------------------------------------\u001B[0m",
      "\u001B[0;31mNameError\u001B[0m                                 Traceback (most recent call last)",
      "Cell \u001B[0;32mIn[1], line 1\u001B[0m\n\u001B[0;32m----> 1\u001B[0m \u001B[38;5;28mprint\u001B[39m(\u001B[43mfermion_operator\u001B[49m)\n",
      "\u001B[0;31mNameError\u001B[0m: name 'fermion_operator' is not defined"
     ]
    }
   ],
   "execution_count": 1
  },
  {
   "metadata": {
    "ExecuteTime": {
     "end_time": "2024-12-03T18:41:54.473948Z",
     "start_time": "2024-12-03T18:41:54.468486Z"
    }
   },
   "cell_type": "code",
   "source": [
    "majo = get_majorana_operator(fermion_operator)\n",
    "    \n",
    "one_norm = 0\n",
    "for term, coeff in majo.terms.items():\n",
    "    one_norm += abs(coeff)\n",
    "print(one_norm)"
   ],
   "id": "120f9703e60ae905",
   "outputs": [
    {
     "name": "stdout",
     "output_type": "stream",
     "text": [
      "6.592616150895454\n"
     ]
    }
   ],
   "execution_count": 8
  },
  {
   "metadata": {},
   "cell_type": "code",
   "outputs": [],
   "execution_count": null,
   "source": "",
   "id": "5990309bdae1a1a"
  }
 ],
 "metadata": {
  "kernelspec": {
   "display_name": "Python 3",
   "language": "python",
   "name": "python3"
  },
  "language_info": {
   "codemirror_mode": {
    "name": "ipython",
    "version": 2
   },
   "file_extension": ".py",
   "mimetype": "text/x-python",
   "name": "python",
   "nbconvert_exporter": "python",
   "pygments_lexer": "ipython2",
   "version": "2.7.6"
  }
 },
 "nbformat": 4,
 "nbformat_minor": 5
}
