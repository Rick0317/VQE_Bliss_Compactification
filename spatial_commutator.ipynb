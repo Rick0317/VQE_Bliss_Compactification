{
 "cells": [
  {
   "metadata": {
    "ExecuteTime": {
     "end_time": "2024-12-04T20:48:32.948759Z",
     "start_time": "2024-12-04T20:48:31.113498Z"
    }
   },
   "cell_type": "code",
   "source": [
    "import numpy as np\n",
    "from matplotlib import pyplot as plt\n",
    "from scipy.optimize import curve_fit\n",
    "from block2 import SZ as block2_SZ\n",
    "from pathlib import Path\n",
    "from pyblock2.driver.core import DMRGDriver, SymmetryTypes\n",
    "from pyblock2 import tools\n",
    "from pyblock2._pyscf.ao2mo import integrals as itg\n",
    "import pyscf\n",
    "import openfermion as of\n",
    "from pyscf import gto, scf\n",
    "from openfermion import FermionOperator\n",
    "from utils.physicist_to_chemist import physicist_to_chemist, chemist_ferm_to_tensor, physicist_to_chemist_tensor\n",
    "from SolvableQubitHamiltonians.fermi_util import get_commutator"
   ],
   "id": "d87d780fb5e0df01",
   "outputs": [],
   "execution_count": 1
  },
  {
   "metadata": {
    "ExecuteTime": {
     "end_time": "2024-12-04T20:48:33.501708Z",
     "start_time": "2024-12-04T20:48:33.497033Z"
    }
   },
   "cell_type": "code",
   "source": [
    "def construct_ob_spatial_fermion_operator(ferm_op, obt):\n",
    "\n",
    "    num_orbitals = obt.shape[0]  # assuming h1e is square\n",
    "    num_spin_orbs = 2 * num_orbitals\n",
    "    for p in range(num_orbitals):\n",
    "        for q in range(num_orbitals):\n",
    "            coefficient = obt[p, q]\n",
    "            if coefficient != 0.0:\n",
    "                term = FermionOperator(((p, 1), (q, 0)), coefficient)\n",
    "                ferm_op += term\n",
    "    \n",
    "    return ferm_op\n",
    "\n",
    "\n",
    "def construct_tb_spatial_fermion_operator(ferm_op, tbt):\n",
    "    num_orbitals = tbt.shape[0]  # assuming h1e is square\n",
    "    for p in range(num_orbitals):\n",
    "        for q in range(num_orbitals):\n",
    "            for r in range(num_orbitals):\n",
    "                for s in range(num_orbitals):\n",
    "                    coefficient = tbt[p, q, r, s]\n",
    "                    if coefficient != 0.0:\n",
    "                        term_1 = FermionOperator(((p, 1), (q, 0), (r, 1), (s, 0)), coefficient)\n",
    "                        \n",
    "                        ferm_op += term_1\n",
    "    \n",
    "    return ferm_op"
   ],
   "id": "e0ae7a69d4e35397",
   "outputs": [],
   "execution_count": 2
  },
  {
   "cell_type": "code",
   "id": "initial_id",
   "metadata": {
    "collapsed": true,
    "ExecuteTime": {
     "end_time": "2024-12-04T20:48:34.137583Z",
     "start_time": "2024-12-04T20:48:33.674116Z"
    }
   },
   "source": [
    "mol = gto.M(\n",
    "    atom=f\"H 0 0 0; H 0 0 1.0\",\n",
    "    basis='sto-3g')\n",
    "mf = scf.RHF(mol).run(conv_tol=1E-14)\n",
    "mycc = mf.CISD().run()\n",
    "ncas, n_elec, spin, ecore, h1e, g2e, orb_sym = itg.get_rhf_integrals(mf,\n",
    "                                                                     ncore=0,\n",
    "                                                                     g2e_symm=1)"
   ],
   "outputs": [
    {
     "name": "stdout",
     "output_type": "stream",
     "text": [
      "converged SCF energy = -1.06610864931794\n",
      "E(RCISD) = -1.101150330232619  E_corr = -0.03504168091468246\n"
     ]
    }
   ],
   "execution_count": 3
  },
  {
   "metadata": {
    "ExecuteTime": {
     "end_time": "2024-12-04T20:48:34.140719Z",
     "start_time": "2024-12-04T20:48:34.138604Z"
    }
   },
   "cell_type": "code",
   "source": "obt, tbt = physicist_to_chemist_tensor(h1e, g2e)",
   "id": "11ca94244fa93ef1",
   "outputs": [],
   "execution_count": 4
  },
  {
   "metadata": {
    "ExecuteTime": {
     "end_time": "2024-12-04T20:48:34.309549Z",
     "start_time": "2024-12-04T20:48:34.306624Z"
    }
   },
   "cell_type": "code",
   "source": [
    "H = FermionOperator()\n",
    "H = construct_ob_spatial_fermion_operator(H, obt)\n",
    "H = construct_tb_spatial_fermion_operator(H, tbt)\n",
    "print(H)"
   ],
   "id": "527af1f7efaf060d",
   "outputs": [
    {
     "name": "stdout",
     "output_type": "stream",
     "text": [
      "-1.5224407213912212 [0^ 0] +\n",
      "0.3132012497647589 [0^ 0 0^ 0] +\n",
      "0.31085338155985665 [0^ 0 1^ 1] +\n",
      "0.0983952917427351 [0^ 1 0^ 1] +\n",
      "0.0983952917427351 [0^ 1 1^ 0] +\n",
      "0.0983952917427351 [1^ 0 0^ 1] +\n",
      "0.0983952917427351 [1^ 0 1^ 0] +\n",
      "-1.014051668920105 [1^ 1] +\n",
      "0.31085338155985665 [1^ 1 0^ 0] +\n",
      "0.3265353734712869 [1^ 1 1^ 1]\n"
     ]
    }
   ],
   "execution_count": 5
  },
  {
   "metadata": {
    "ExecuteTime": {
     "end_time": "2024-12-04T20:49:25.482042Z",
     "start_time": "2024-12-04T20:49:25.463162Z"
    }
   },
   "cell_type": "code",
   "source": [
    "G = FermionOperator('1^ 0') - FermionOperator('0^ 1')\n",
    "commutator = get_commutator(H, G)\n",
    "print(commutator)"
   ],
   "id": "1b69c4e3acf8aef5",
   "outputs": [
    {
     "name": "stdout",
     "output_type": "stream",
     "text": [
      "0.5217231761776443 [0^ 1] +\n",
      "0.5217231761776444 [1^ 0]\n"
     ]
    }
   ],
   "execution_count": 8
  },
  {
   "metadata": {},
   "cell_type": "code",
   "outputs": [],
   "execution_count": null,
   "source": "",
   "id": "9d0de3fc5d9369fc"
  }
 ],
 "metadata": {
  "kernelspec": {
   "display_name": "Python 3",
   "language": "python",
   "name": "python3"
  },
  "language_info": {
   "codemirror_mode": {
    "name": "ipython",
    "version": 2
   },
   "file_extension": ".py",
   "mimetype": "text/x-python",
   "name": "python",
   "nbconvert_exporter": "python",
   "pygments_lexer": "ipython2",
   "version": "2.7.6"
  }
 },
 "nbformat": 4,
 "nbformat_minor": 5
}
