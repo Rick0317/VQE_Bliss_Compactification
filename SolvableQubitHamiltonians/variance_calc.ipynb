{
 "cells": [
  {
   "metadata": {
    "ExecuteTime": {
     "end_time": "2024-11-29T06:45:01.494817Z",
     "start_time": "2024-11-29T06:44:58.614723Z"
    }
   },
   "cell_type": "code",
   "source": [
    "from openfermion import (\n",
    "    QubitOperator as Q,\n",
    "    commutator,\n",
    "    anticommutator,\n",
    "    get_sparse_operator as gso,\n",
    "    get_ground_state as ggs,\n",
    "    variance,\n",
    "    bravyi_kitaev,\n",
    "    FermionOperator\n",
    ")\n",
    "import numpy as np\n",
    "from fermi_util import get_commutator\n",
    "from algo_utils import bliss_three_body, bliss_three_body_cheaper\n",
    "from main_utils_partitioning import N_QUBITS, copy_hamiltonian, sorted_insertion_decomposition\n",
    "import pickle"
   ],
   "id": "2813c6887f4127c1",
   "outputs": [],
   "execution_count": 1
  },
  {
   "metadata": {
    "ExecuteTime": {
     "end_time": "2024-11-29T06:45:02.816181Z",
     "start_time": "2024-11-29T06:45:02.770220Z"
    }
   },
   "cell_type": "code",
   "source": [
    "def abs_of_dict_value(x):\n",
    "    return np.abs(x[1])\n",
    "\n",
    "def ferm_to_qubit(H: FermionOperator):\n",
    "    Hqub = bravyi_kitaev(H)\n",
    "    Hqub -= Hqub.constant\n",
    "    Hqub.compress()\n",
    "    Hqub.terms = dict(\n",
    "    sorted(Hqub.terms.items(), key=abs_of_dict_value, reverse=True))\n",
    "    return Hqub"
   ],
   "id": "ed1e3af2330d6fff",
   "outputs": [],
   "execution_count": 2
  },
  {
   "metadata": {
    "ExecuteTime": {
     "end_time": "2024-11-29T06:45:03.225400Z",
     "start_time": "2024-11-29T06:45:03.219572Z"
    }
   },
   "cell_type": "code",
   "source": [
    "moltag = 'h2'\n",
    "filename = f'commutator_store/{moltag}_commutator.pkl'\n",
    "with open(filename, 'rb') as f:\n",
    "    H = pickle.load(f)\n",
    "    \n",
    "filename2 = f'commutator_store/{moltag}_commutator_blissed.pkl'\n",
    "with open(filename2, 'rb') as f:\n",
    "    H_bliss = pickle.load(f)"
   ],
   "id": "37158d82446feeca",
   "outputs": [],
   "execution_count": 3
  },
  {
   "metadata": {
    "ExecuteTime": {
     "end_time": "2024-11-29T06:45:04.263402Z",
     "start_time": "2024-11-29T06:45:04.257444Z"
    }
   },
   "cell_type": "code",
   "source": "print(H)",
   "id": "6e4ef7246e277337",
   "outputs": [
    {
     "name": "stdout",
     "output_type": "stream",
     "text": [
      "0.3935811669709405 [1^ 0^ 1 0] +\n",
      "1.0701145997683443 [1^ 0^ 3 2] +\n",
      "-0.3935811669709405 [2^ 1^ 0^ 2 1 0] +\n",
      "-0.3935811669709405 [3^ 1^ 0^ 3 1 0] +\n",
      "0.3935811669709405 [3^ 2^ 0^ 3 2 0] +\n",
      "1.0701145997683443 [3^ 2^ 1 0] +\n",
      "0.3935811669709405 [3^ 2^ 1^ 3 2 1] +\n",
      "-0.3935811669709405 [3^ 2^ 3 2]\n"
     ]
    }
   ],
   "execution_count": 4
  },
  {
   "metadata": {
    "ExecuteTime": {
     "end_time": "2024-11-29T06:45:04.915140Z",
     "start_time": "2024-11-29T06:45:04.785324Z"
    }
   },
   "cell_type": "code",
   "source": [
    "H_q = ferm_to_qubit(H)\n",
    "H_bliss_q = ferm_to_qubit(H_bliss)"
   ],
   "id": "eb0e28c101cc2291",
   "outputs": [],
   "execution_count": 5
  },
  {
   "metadata": {
    "ExecuteTime": {
     "end_time": "2024-11-29T06:45:05.514980Z",
     "start_time": "2024-11-29T06:45:05.506614Z"
    }
   },
   "cell_type": "code",
   "source": [
    "def commutator_variance(H: FermionOperator, decomp, num_modes):\n",
    "    \"\"\"\n",
    "    Computes the variance of the [H, G] - K.\n",
    "    :param H: The Hamiltonian to compute the variance of.\n",
    "    :param decomp: The decomposition of the Hamiltonian.\n",
    "    :param G: The fermion operator to define the gradient\n",
    "    :param K: The Killer operator applied to the whole [H, G]\n",
    "    :param N: The number of sites\n",
    "    :return: The variance metric\n",
    "    \"\"\"\n",
    "    psi = ggs(gso(H, num_modes))[1]\n",
    "    vars = np.zeros(len(decomp), dtype=np.complex128)\n",
    "    for i, frag in enumerate(decomp):\n",
    "        vars[i] = variance(gso(frag, num_modes), psi)\n",
    "    return np.sum((vars) ** (1 / 2)) ** 2"
   ],
   "id": "5f141636a3d3b730",
   "outputs": [],
   "execution_count": 6
  },
  {
   "metadata": {
    "ExecuteTime": {
     "end_time": "2024-11-29T06:45:06.254993Z",
     "start_time": "2024-11-29T06:45:06.248484Z"
    }
   },
   "cell_type": "code",
   "source": "from qwc_decomposition import qwc_decomposition",
   "id": "f40db7da0a7e68d7",
   "outputs": [],
   "execution_count": 7
  },
  {
   "cell_type": "code",
   "id": "initial_id",
   "metadata": {
    "collapsed": true,
    "ExecuteTime": {
     "end_time": "2024-11-29T06:45:07.396250Z",
     "start_time": "2024-11-29T06:45:06.924326Z"
    }
   },
   "source": [
    "methodtag = 'ac'\n",
    "N = 4\n",
    "decomp = qwc_decomposition(H_q)\n",
    "print(\"Original Decomposition Complete\")\n",
    "blissed_decomp = qwc_decomposition(H_bliss_q)\n",
    "print(\"Blissed Decomposition Complete\")\n",
    "var = commutator_variance(H_q, decomp, N)\n",
    "\n",
    "blissed_vars = commutator_variance(H_bliss_q, blissed_decomp, N)\n",
    "\n",
    "print(f\"Original variance: {var}\")\n",
    "print(f\"Blissed variance: {blissed_vars}\")"
   ],
   "outputs": [
    {
     "name": "stdout",
     "output_type": "stream",
     "text": [
      "Original Decomposition Complete\n",
      "Blissed Decomposition Complete\n",
      "Original variance: (0.5457938873939997+6.938893903907228e-18j)\n",
      "Blissed variance: (0.545793887393999-2.7393585667575274e-17j)\n"
     ]
    }
   ],
   "execution_count": 8
  },
  {
   "metadata": {
    "ExecuteTime": {
     "end_time": "2024-11-28T18:08:10.463171Z",
     "start_time": "2024-11-28T18:08:10.461519Z"
    }
   },
   "cell_type": "code",
   "source": "",
   "id": "5a8b8c50f621bbbd",
   "outputs": [],
   "execution_count": 33
  },
  {
   "metadata": {},
   "cell_type": "code",
   "outputs": [],
   "execution_count": null,
   "source": "",
   "id": "5f4c32e6c0a50faf"
  }
 ],
 "metadata": {
  "kernelspec": {
   "display_name": "Python 3",
   "language": "python",
   "name": "python3"
  },
  "language_info": {
   "codemirror_mode": {
    "name": "ipython",
    "version": 2
   },
   "file_extension": ".py",
   "mimetype": "text/x-python",
   "name": "python",
   "nbconvert_exporter": "python",
   "pygments_lexer": "ipython2",
   "version": "2.7.6"
  }
 },
 "nbformat": 4,
 "nbformat_minor": 5
}
