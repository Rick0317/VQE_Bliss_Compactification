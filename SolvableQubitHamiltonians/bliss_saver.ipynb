{
 "cells": [
  {
   "cell_type": "code",
   "id": "initial_id",
   "metadata": {
    "collapsed": true,
    "ExecuteTime": {
     "end_time": "2024-12-04T20:33:21.780029Z",
     "start_time": "2024-12-04T20:33:19.868434Z"
    }
   },
   "source": [
    "from openfermion import (\n",
    "    QubitOperator as Q,\n",
    "    commutator,\n",
    "    anticommutator,\n",
    "    get_sparse_operator as gso,\n",
    "    get_ground_state as ggs,\n",
    "    variance,\n",
    "    bravyi_kitaev,\n",
    "    FermionOperator,\n",
    "    normal_ordered,\n",
    "    get_majorana_operator\n",
    ")\n",
    "import numpy as np\n",
    "from fermi_util import get_commutator\n",
    "import pickle\n",
    "import random\n",
    "from scipy.optimize import minimize"
   ],
   "outputs": [],
   "execution_count": 1
  },
  {
   "metadata": {
    "ExecuteTime": {
     "end_time": "2024-12-04T20:33:22.405213Z",
     "start_time": "2024-12-04T20:33:22.402269Z"
    }
   },
   "cell_type": "code",
   "source": [
    "def total_num_op(num_modes):\n",
    "    \"\"\"\n",
    "    Calculates the total number operator for a given number of modes.\n",
    "    :param num_modes:\n",
    "    :return:\n",
    "    \"\"\"\n",
    "    total_number_operator = FermionOperator()\n",
    "    for mode in range(num_modes):\n",
    "        total_number_operator += FermionOperator(((mode, 1), (mode, 0)))\n",
    "\n",
    "    return total_number_operator"
   ],
   "id": "2f4e4813f94ad14a",
   "outputs": [],
   "execution_count": 2
  },
  {
   "metadata": {
    "ExecuteTime": {
     "end_time": "2024-12-04T20:33:22.822793Z",
     "start_time": "2024-12-04T20:33:22.820145Z"
    }
   },
   "cell_type": "code",
   "source": [
    "def callback(xk, trunc_H, num_modes, num_elec,):\n",
    "    print(f\"Current 1-Norm: {bliss_cost_fn(xk, trunc_H, num_modes, num_elec,)}\")"
   ],
   "id": "a5593f0c13e9a577",
   "outputs": [],
   "execution_count": 3
  },
  {
   "metadata": {
    "ExecuteTime": {
     "end_time": "2024-12-04T20:33:23.217812Z",
     "start_time": "2024-12-04T20:33:23.214121Z"
    }
   },
   "cell_type": "code",
   "source": [
    "def construct_symmetric_fermion_operator(sym_matrix):\n",
    "    \"\"\"\n",
    "    Constructs a symmetric FermionOperator from a symmetric matrix.\n",
    "\n",
    "    Args:\n",
    "        sym_matrix (ndarray): An n x n symmetric matrix.\n",
    "\n",
    "    Returns:\n",
    "        FermionOperator: The constructed symmetric FermionOperator.\n",
    "    \"\"\"\n",
    "    n = sym_matrix.shape[0]\n",
    "\n",
    "    # Check if the matrix is symmetric\n",
    "    if not np.allclose(sym_matrix, sym_matrix.T):\n",
    "        raise ValueError(\"The input matrix must be symmetric.\")\n",
    "\n",
    "    fermion_operator = FermionOperator()\n",
    "\n",
    "    # Iterate over the matrix elements to construct the operator\n",
    "    for i in range(n):\n",
    "        for j in range(i, n):  # Only loop over the upper triangle (i <= j)\n",
    "            if sym_matrix[i][j] != 0:\n",
    "                coefficient = sym_matrix[i][j]\n",
    "                if i == j:\n",
    "                    # Diagonal terms (e.g., c_i^† c_i)\n",
    "                    fermion_operator += FermionOperator(((i, 1), (i, 0)),\n",
    "                                                        coefficient)\n",
    "                else:\n",
    "                    # Off-diagonal terms contribute twice (symmetric part)\n",
    "                    fermion_operator += FermionOperator(((i, 1), (j, 0)),\n",
    "                                                        coefficient)\n",
    "                    fermion_operator += FermionOperator(((j, 1), (i, 0)),\n",
    "                                                        coefficient)\n",
    "\n",
    "    return fermion_operator"
   ],
   "id": "fb5aeb5af84da3af",
   "outputs": [],
   "execution_count": 4
  },
  {
   "metadata": {
    "ExecuteTime": {
     "end_time": "2024-12-04T20:33:23.601852Z",
     "start_time": "2024-12-04T20:33:23.597208Z"
    }
   },
   "cell_type": "code",
   "source": [
    "def blissed_H(params, trun_H, num_modes, num_elec):\n",
    "    total_number_operator = total_num_op(num_modes)\n",
    "    mu1 = params[0]\n",
    "    mu2 = params[1]\n",
    "    mu3 = params[2]\n",
    "    # matrix = params[3:].reshape((num_modes, num_modes))\n",
    "    upper_tri_indices = np.triu_indices(num_modes)\n",
    "    sym_matrix = np.zeros((num_modes, num_modes))\n",
    "    sym_matrix[upper_tri_indices] = params[3:3 + int(\n",
    "        num_modes * (num_modes + 1) // 2)]\n",
    "    sym_matrix = sym_matrix + sym_matrix.T - np.diag(np.diag(sym_matrix))\n",
    "\n",
    "    upper_tri_indices2 = np.triu_indices(num_modes)\n",
    "    sym_matrix2 = np.zeros((num_modes, num_modes))\n",
    "    sym_matrix2[upper_tri_indices2] = params[3 + int(\n",
    "        num_modes * (num_modes + 1) // 2):]\n",
    "    sym_matrix2 = sym_matrix2 + sym_matrix2.T - np.diag(np.diag(sym_matrix2))\n",
    "\n",
    "    truncated_H = FermionOperator()\n",
    "    truncated_H += trun_H\n",
    "\n",
    "    truncated_H -= mu1 * (total_number_operator - num_elec)\n",
    "    truncated_H -= mu2 * (\n",
    "                total_number_operator * total_number_operator - num_elec ** 2)\n",
    "    truncated_H -= mu3 * (\n",
    "                total_number_operator * total_number_operator * total_number_operator - num_elec ** 3)\n",
    "    O = construct_symmetric_fermion_operator(sym_matrix)\n",
    "    O_2 = construct_symmetric_fermion_operator(sym_matrix2)\n",
    "    # O = construct_non_symmetric_fermion_operator(matrix)\n",
    "    truncated_H -= normal_ordered(O) * (total_number_operator - num_elec)\n",
    "    truncated_H -= normal_ordered(O_2) * (\n",
    "                total_number_operator * total_number_operator - num_elec ** 2)\n",
    "\n",
    "    return truncated_H"
   ],
   "id": "be85093e76b5f0cf",
   "outputs": [],
   "execution_count": 5
  },
  {
   "metadata": {
    "ExecuteTime": {
     "end_time": "2024-12-04T20:33:24.149514Z",
     "start_time": "2024-12-04T20:33:24.142607Z"
    }
   },
   "cell_type": "code",
   "source": [
    "def bliss_three_body(trunc_H: FermionOperator, num_modes, num_elec):\n",
    "\n",
    "    initial_mu = [0, 0, 0]\n",
    "    init_O = [random.random() for _ in range(int(num_modes * (num_modes + 1)))]\n",
    "    # init_O = [random.random() for _ in range(num_modes ** 2)]\n",
    "    initial_guess = np.concatenate((initial_mu, init_O))\n",
    "    res = minimize(bliss_cost_fn, initial_guess, args=(trunc_H, num_modes, num_elec,), method='BFGS',\n",
    "                   options={'gtol': 1e-30, 'disp': True, 'maxiter': 100}, callback=lambda xk: callback(xk, trunc_H))\n",
    "\n",
    "    bliss_result = blissed_H(res.x, trunc_H, num_modes, num_elec)\n",
    "\n",
    "    return bliss_result"
   ],
   "id": "8436ad246b3ec1dd",
   "outputs": [],
   "execution_count": 6
  },
  {
   "metadata": {
    "ExecuteTime": {
     "end_time": "2024-12-04T20:33:24.767930Z",
     "start_time": "2024-12-04T20:33:24.759777Z"
    }
   },
   "cell_type": "code",
   "source": [
    "def bliss_cost_fn(params, trun_H, num_modes, num_elec):\n",
    "    total_number_operator = total_num_op(num_modes)\n",
    "    mu1 = params[0]\n",
    "    mu2 = params[1]\n",
    "    mu3 = params[2]\n",
    "    # matrix = params[3:].reshape((num_modes, num_modes))\n",
    "    upper_tri_indices = np.triu_indices(num_modes)\n",
    "    sym_matrix = np.zeros((num_modes, num_modes))\n",
    "    sym_matrix[upper_tri_indices] = params[3:3 + int(\n",
    "        num_modes * (num_modes + 1) // 2)]\n",
    "    sym_matrix = sym_matrix + sym_matrix.T - np.diag(np.diag(sym_matrix))\n",
    "\n",
    "    upper_tri_indices2 = np.triu_indices(num_modes)\n",
    "    sym_matrix2 = np.zeros((num_modes, num_modes))\n",
    "    sym_matrix2[upper_tri_indices2] = params[3 + int(\n",
    "        num_modes * (num_modes + 1) // 2):]\n",
    "    sym_matrix2 = sym_matrix2 + sym_matrix2.T - np.diag(\n",
    "        np.diag(sym_matrix2))\n",
    "    truncated_H = FermionOperator()\n",
    "    truncated_H += trun_H\n",
    "\n",
    "    truncated_H -= mu1 * (total_number_operator - num_elec)\n",
    "    truncated_H -= mu2 * (\n",
    "                total_number_operator * total_number_operator - num_elec ** 2)\n",
    "    truncated_H -= mu3 * (\n",
    "                total_number_operator * total_number_operator * total_number_operator - num_elec ** 3)\n",
    "    O = construct_symmetric_fermion_operator(sym_matrix)\n",
    "    O_2 = construct_symmetric_fermion_operator(sym_matrix2)\n",
    "    # O = construct_non_symmetric_fermion_operator(matrix)\n",
    "    truncated_H -= normal_ordered(O) * (total_number_operator - num_elec)\n",
    "    truncated_H -= normal_ordered(O_2) * (\n",
    "                total_number_operator * total_number_operator - num_elec ** 2)\n",
    "    majo = get_majorana_operator(truncated_H)\n",
    "\n",
    "    one_norm = 0\n",
    "    for term, coeff in majo.terms.items():\n",
    "        one_norm += abs(coeff)\n",
    "    return one_norm\n"
   ],
   "id": "e1ce03f67901c4c5",
   "outputs": [],
   "execution_count": 7
  },
  {
   "metadata": {
    "ExecuteTime": {
     "end_time": "2024-12-04T20:36:17.096486Z",
     "start_time": "2024-12-04T20:36:17.082876Z"
    }
   },
   "cell_type": "code",
   "source": [
    "moltag = 'h2'\n",
    "\n",
    "num_modes = 4\n",
    "num_elec = 2\n",
    "\n",
    "filename = f'ham_lib/{moltag}_fer.bin'\n",
    "with open(filename, 'rb') as f:\n",
    "    H = pickle.load(f)\n",
    "print(H)\n",
    "#G = FermionOperator('0^ 1^ 3 2') - FermionOperator('2^ 3^ 1 0')\n",
    "# G = (FermionOperator('0^ 1^ 0 1') - FermionOperator('1^ 0^ 1 0') \n",
    "#      + FermionOperator('1^ 2^ 1 2') - FermionOperator('2^ 1^ 2 1') \n",
    "#      + FermionOperator('0^ 3^ 0 3') - FermionOperator('3^ 0^ 3 0') \n",
    "#      + FermionOperator('1^ 3^ 1 3') - FermionOperator('3^ 1^ 3 1'))\n",
    "\n",
    "G = FermionOperator('0^ 2') - FermionOperator('2^ 0') + FermionOperator('1^ 3') - FermionOperator('3^ 1')\n",
    "    \n",
    "\n",
    "commutator = get_commutator(H, G)\n",
    "print(commutator)\n",
    "print(\"Commutator Obtained in Fermion and Qubit space\")\n",
    "with open(f'commutator_store/{moltag}_commutator.pkl', 'wb') as f:\n",
    "    pickle.dump(commutator, f)"
   ],
   "id": "ca7ea850e40eb3ce",
   "outputs": [
    {
     "name": "stdout",
     "output_type": "stream",
     "text": [
      "0.52917721092 [] +\n",
      "-1.110844179883727 [0^ 0] +\n",
      "0.31320124976475894 [0^ 0^ 0 0] +\n",
      "0.09839529174273512 [0^ 0^ 2 2] +\n",
      "0.31320124976475894 [0^ 1^ 1 0] +\n",
      "0.09839529174273512 [0^ 1^ 3 2] +\n",
      "0.09839529174273512 [0^ 2^ 0 2] +\n",
      "0.3108533815598566 [0^ 2^ 2 0] +\n",
      "0.09839529174273512 [0^ 3^ 1 2] +\n",
      "0.3108533815598566 [0^ 3^ 3 0] +\n",
      "0.31320124976475894 [1^ 0^ 0 1] +\n",
      "0.09839529174273512 [1^ 0^ 2 3] +\n",
      "-1.110844179883727 [1^ 1] +\n",
      "0.31320124976475894 [1^ 1^ 1 1] +\n",
      "0.09839529174273512 [1^ 1^ 3 3] +\n",
      "0.09839529174273512 [1^ 2^ 0 3] +\n",
      "0.3108533815598566 [1^ 2^ 2 1] +\n",
      "0.09839529174273512 [1^ 3^ 1 3] +\n",
      "0.3108533815598566 [1^ 3^ 3 1] +\n",
      "0.31085338155985665 [2^ 0^ 0 2] +\n",
      "0.09839529174273512 [2^ 0^ 2 0] +\n",
      "0.31085338155985665 [2^ 1^ 1 2] +\n",
      "0.09839529174273512 [2^ 1^ 3 0] +\n",
      "-0.5891210037060828 [2^ 2] +\n",
      "0.09839529174273512 [2^ 2^ 0 0] +\n",
      "0.3265353734712869 [2^ 2^ 2 2] +\n",
      "0.09839529174273512 [2^ 3^ 1 0] +\n",
      "0.3265353734712869 [2^ 3^ 3 2] +\n",
      "0.31085338155985665 [3^ 0^ 0 3] +\n",
      "0.09839529174273512 [3^ 0^ 2 1] +\n",
      "0.31085338155985665 [3^ 1^ 1 3] +\n",
      "0.09839529174273512 [3^ 1^ 3 1] +\n",
      "0.09839529174273512 [3^ 2^ 0 1] +\n",
      "0.3265353734712869 [3^ 2^ 2 3] +\n",
      "-0.5891210037060828 [3^ 3] +\n",
      "0.09839529174273512 [3^ 3^ 1 1] +\n",
      "0.3265353734712869 [3^ 3^ 3 3]\n",
      "-0.5217231761776442 [0^ 2] +\n",
      "-0.3888854305611358 [1^ 0^ 2 1] +\n",
      "0.3888854305611357 [1^ 0^ 3 0] +\n",
      "-0.5217231761776442 [1^ 3] +\n",
      "-0.5217231761776442 [2^ 0] +\n",
      "-0.3888854305611358 [2^ 1^ 1 0] +\n",
      "0.3622171831480798 [2^ 1^ 3 2] +\n",
      "0.3888854305611358 [3^ 0^ 1 0] +\n",
      "-0.3622171831480798 [3^ 0^ 3 2] +\n",
      "-0.5217231761776442 [3^ 1] +\n",
      "0.3622171831480798 [3^ 2^ 2 1] +\n",
      "-0.3622171831480798 [3^ 2^ 3 0]\n",
      "Commutator Obtained in Fermion and Qubit space\n"
     ]
    }
   ],
   "execution_count": 13
  },
  {
   "metadata": {
    "ExecuteTime": {
     "end_time": "2024-12-04T20:36:26.446319Z",
     "start_time": "2024-12-04T20:36:26.437849Z"
    }
   },
   "cell_type": "code",
   "source": [
    "majo = get_majorana_operator(commutator)\n",
    "    \n",
    "one_norm = 0\n",
    "for term, coeff in majo.terms.items():\n",
    "    one_norm += abs(coeff)\n",
    "print(one_norm)"
   ],
   "id": "781cb910b94791a8",
   "outputs": [
    {
     "name": "stdout",
     "output_type": "stream",
     "text": [
      "1.82121721347756\n"
     ]
    }
   ],
   "execution_count": 14
  },
  {
   "metadata": {
    "ExecuteTime": {
     "end_time": "2024-12-04T20:36:27.199416Z",
     "start_time": "2024-12-04T20:36:27.193111Z"
    }
   },
   "cell_type": "code",
   "source": [
    "# import h5py\n",
    "# from utils.physicist_to_chemist import physicist_to_chemist, \\\n",
    "#     chemist_ferm_to_tensor\n",
    "# \n",
    "# commutator_phy = physicist_to_chemist(commutator)\n",
    "# obt, tbt, threebt = chemist_ferm_to_tensor(commutator_phy, num_modes // 2)\n",
    "# print(obt, tbt, threebt)\n",
    "# # Open or create an HDF5 file\n",
    "# with h5py.File(f\"{moltag}_commutator_tensors.h5\", \"w\") as fid:\n",
    "# \n",
    "#     # Create another group named \"BLISS_HAM\"\n",
    "#     mol_data_group = fid.create_group(\"BLISS_HAM\")\n",
    "# \n",
    "#     mol_data_group[\"h_const\"] = 0\n",
    "#     mol_data_group[\"obt\"] = obt\n",
    "#     mol_data_group[\"tbt\"] = tbt\n",
    "#     mol_data_group[\"threebt\"] = threebt  # Assuming this is intentional duplication\n",
    "#     mol_data_group[\"eta\"] = num_elec  # Replace with actual num_electrons value"
   ],
   "id": "94848bb0c44f0da2",
   "outputs": [],
   "execution_count": 15
  },
  {
   "metadata": {
    "ExecuteTime": {
     "end_time": "2024-12-04T20:36:27.861177Z",
     "start_time": "2024-12-04T20:36:27.858038Z"
    }
   },
   "cell_type": "code",
   "source": "print(commutator)",
   "id": "f1d282a545f0a226",
   "outputs": [
    {
     "name": "stdout",
     "output_type": "stream",
     "text": [
      "-0.5217231761776442 [0^ 2] +\n",
      "-0.3888854305611358 [1^ 0^ 2 1] +\n",
      "0.3888854305611357 [1^ 0^ 3 0] +\n",
      "-0.5217231761776442 [1^ 3] +\n",
      "-0.5217231761776442 [2^ 0] +\n",
      "-0.3888854305611358 [2^ 1^ 1 0] +\n",
      "0.3622171831480798 [2^ 1^ 3 2] +\n",
      "0.3888854305611358 [3^ 0^ 1 0] +\n",
      "-0.3622171831480798 [3^ 0^ 3 2] +\n",
      "-0.5217231761776442 [3^ 1] +\n",
      "0.3622171831480798 [3^ 2^ 2 1] +\n",
      "-0.3622171831480798 [3^ 2^ 3 0]\n"
     ]
    }
   ],
   "execution_count": 16
  },
  {
   "metadata": {
    "ExecuteTime": {
     "end_time": "2024-12-04T20:36:32.233699Z",
     "start_time": "2024-12-04T20:36:28.641524Z"
    }
   },
   "cell_type": "code",
   "source": [
    "initial_mu = [0, 0, 0]\n",
    "# init_O = [random.random() for _ in range(int(num_modes * (num_modes + 1)//2))]\n",
    "init_O = [random.random() for _ in range(int(num_modes * (num_modes + 1)))]\n",
    "# init_O = [random.random() for _ in range(num_modes ** 2)]\n",
    "initial_guess = np.concatenate((initial_mu, init_O))\n",
    "res = minimize(bliss_cost_fn, initial_guess, args=(commutator, num_modes, num_elec,), method='BFGS',\n",
    "               options={'gtol': 1e-30, 'disp': True, 'maxiter': 30}, callback=lambda xk: callback(xk, commutator, num_modes, num_elec,))\n"
   ],
   "id": "a8d366ed304fb9b",
   "outputs": [
    {
     "name": "stdout",
     "output_type": "stream",
     "text": [
      "Current 1-Norm: 19.60517843413562\n",
      "Current 1-Norm: 15.695913645122515\n"
     ]
    },
    {
     "ename": "KeyboardInterrupt",
     "evalue": "",
     "output_type": "error",
     "traceback": [
      "\u001B[0;31m---------------------------------------------------------------------------\u001B[0m",
      "\u001B[0;31mKeyboardInterrupt\u001B[0m                         Traceback (most recent call last)",
      "Cell \u001B[0;32mIn[17], line 6\u001B[0m\n\u001B[1;32m      4\u001B[0m \u001B[38;5;66;03m# init_O = [random.random() for _ in range(num_modes ** 2)]\u001B[39;00m\n\u001B[1;32m      5\u001B[0m initial_guess \u001B[38;5;241m=\u001B[39m np\u001B[38;5;241m.\u001B[39mconcatenate((initial_mu, init_O))\n\u001B[0;32m----> 6\u001B[0m res \u001B[38;5;241m=\u001B[39m \u001B[43mminimize\u001B[49m\u001B[43m(\u001B[49m\u001B[43mbliss_cost_fn\u001B[49m\u001B[43m,\u001B[49m\u001B[43m \u001B[49m\u001B[43minitial_guess\u001B[49m\u001B[43m,\u001B[49m\u001B[43m \u001B[49m\u001B[43margs\u001B[49m\u001B[38;5;241;43m=\u001B[39;49m\u001B[43m(\u001B[49m\u001B[43mcommutator\u001B[49m\u001B[43m,\u001B[49m\u001B[43m \u001B[49m\u001B[43mnum_modes\u001B[49m\u001B[43m,\u001B[49m\u001B[43m \u001B[49m\u001B[43mnum_elec\u001B[49m\u001B[43m,\u001B[49m\u001B[43m)\u001B[49m\u001B[43m,\u001B[49m\u001B[43m \u001B[49m\u001B[43mmethod\u001B[49m\u001B[38;5;241;43m=\u001B[39;49m\u001B[38;5;124;43m'\u001B[39;49m\u001B[38;5;124;43mBFGS\u001B[39;49m\u001B[38;5;124;43m'\u001B[39;49m\u001B[43m,\u001B[49m\n\u001B[1;32m      7\u001B[0m \u001B[43m               \u001B[49m\u001B[43moptions\u001B[49m\u001B[38;5;241;43m=\u001B[39;49m\u001B[43m{\u001B[49m\u001B[38;5;124;43m'\u001B[39;49m\u001B[38;5;124;43mgtol\u001B[39;49m\u001B[38;5;124;43m'\u001B[39;49m\u001B[43m:\u001B[49m\u001B[43m \u001B[49m\u001B[38;5;241;43m1e-30\u001B[39;49m\u001B[43m,\u001B[49m\u001B[43m \u001B[49m\u001B[38;5;124;43m'\u001B[39;49m\u001B[38;5;124;43mdisp\u001B[39;49m\u001B[38;5;124;43m'\u001B[39;49m\u001B[43m:\u001B[49m\u001B[43m \u001B[49m\u001B[38;5;28;43;01mTrue\u001B[39;49;00m\u001B[43m,\u001B[49m\u001B[43m \u001B[49m\u001B[38;5;124;43m'\u001B[39;49m\u001B[38;5;124;43mmaxiter\u001B[39;49m\u001B[38;5;124;43m'\u001B[39;49m\u001B[43m:\u001B[49m\u001B[43m \u001B[49m\u001B[38;5;241;43m30\u001B[39;49m\u001B[43m}\u001B[49m\u001B[43m,\u001B[49m\u001B[43m \u001B[49m\u001B[43mcallback\u001B[49m\u001B[38;5;241;43m=\u001B[39;49m\u001B[38;5;28;43;01mlambda\u001B[39;49;00m\u001B[43m \u001B[49m\u001B[43mxk\u001B[49m\u001B[43m:\u001B[49m\u001B[43m \u001B[49m\u001B[43mcallback\u001B[49m\u001B[43m(\u001B[49m\u001B[43mxk\u001B[49m\u001B[43m,\u001B[49m\u001B[43m \u001B[49m\u001B[43mcommutator\u001B[49m\u001B[43m,\u001B[49m\u001B[43m \u001B[49m\u001B[43mnum_modes\u001B[49m\u001B[43m,\u001B[49m\u001B[43m \u001B[49m\u001B[43mnum_elec\u001B[49m\u001B[43m,\u001B[49m\u001B[43m)\u001B[49m\u001B[43m)\u001B[49m\n",
      "File \u001B[0;32m~/PycharmProjects/croor/.venv/lib/python3.9/site-packages/scipy/optimize/_minimize.py:708\u001B[0m, in \u001B[0;36mminimize\u001B[0;34m(fun, x0, args, method, jac, hess, hessp, bounds, constraints, tol, callback, options)\u001B[0m\n\u001B[1;32m    706\u001B[0m     res \u001B[38;5;241m=\u001B[39m _minimize_cg(fun, x0, args, jac, callback, \u001B[38;5;241m*\u001B[39m\u001B[38;5;241m*\u001B[39moptions)\n\u001B[1;32m    707\u001B[0m \u001B[38;5;28;01melif\u001B[39;00m meth \u001B[38;5;241m==\u001B[39m \u001B[38;5;124m'\u001B[39m\u001B[38;5;124mbfgs\u001B[39m\u001B[38;5;124m'\u001B[39m:\n\u001B[0;32m--> 708\u001B[0m     res \u001B[38;5;241m=\u001B[39m \u001B[43m_minimize_bfgs\u001B[49m\u001B[43m(\u001B[49m\u001B[43mfun\u001B[49m\u001B[43m,\u001B[49m\u001B[43m \u001B[49m\u001B[43mx0\u001B[49m\u001B[43m,\u001B[49m\u001B[43m \u001B[49m\u001B[43margs\u001B[49m\u001B[43m,\u001B[49m\u001B[43m \u001B[49m\u001B[43mjac\u001B[49m\u001B[43m,\u001B[49m\u001B[43m \u001B[49m\u001B[43mcallback\u001B[49m\u001B[43m,\u001B[49m\u001B[43m \u001B[49m\u001B[38;5;241;43m*\u001B[39;49m\u001B[38;5;241;43m*\u001B[39;49m\u001B[43moptions\u001B[49m\u001B[43m)\u001B[49m\n\u001B[1;32m    709\u001B[0m \u001B[38;5;28;01melif\u001B[39;00m meth \u001B[38;5;241m==\u001B[39m \u001B[38;5;124m'\u001B[39m\u001B[38;5;124mnewton-cg\u001B[39m\u001B[38;5;124m'\u001B[39m:\n\u001B[1;32m    710\u001B[0m     res \u001B[38;5;241m=\u001B[39m _minimize_newtoncg(fun, x0, args, jac, hess, hessp, callback,\n\u001B[1;32m    711\u001B[0m                              \u001B[38;5;241m*\u001B[39m\u001B[38;5;241m*\u001B[39moptions)\n",
      "File \u001B[0;32m~/PycharmProjects/croor/.venv/lib/python3.9/site-packages/scipy/optimize/_optimize.py:1398\u001B[0m, in \u001B[0;36m_minimize_bfgs\u001B[0;34m(fun, x0, args, jac, callback, gtol, norm, eps, maxiter, disp, return_all, finite_diff_rel_step, xrtol, c1, c2, hess_inv0, **unknown_options)\u001B[0m\n\u001B[1;32m   1395\u001B[0m pk \u001B[38;5;241m=\u001B[39m \u001B[38;5;241m-\u001B[39mnp\u001B[38;5;241m.\u001B[39mdot(Hk, gfk)\n\u001B[1;32m   1396\u001B[0m \u001B[38;5;28;01mtry\u001B[39;00m:\n\u001B[1;32m   1397\u001B[0m     alpha_k, fc, gc, old_fval, old_old_fval, gfkp1 \u001B[38;5;241m=\u001B[39m \\\n\u001B[0;32m-> 1398\u001B[0m              \u001B[43m_line_search_wolfe12\u001B[49m\u001B[43m(\u001B[49m\u001B[43mf\u001B[49m\u001B[43m,\u001B[49m\u001B[43m \u001B[49m\u001B[43mmyfprime\u001B[49m\u001B[43m,\u001B[49m\u001B[43m \u001B[49m\u001B[43mxk\u001B[49m\u001B[43m,\u001B[49m\u001B[43m \u001B[49m\u001B[43mpk\u001B[49m\u001B[43m,\u001B[49m\u001B[43m \u001B[49m\u001B[43mgfk\u001B[49m\u001B[43m,\u001B[49m\n\u001B[1;32m   1399\u001B[0m \u001B[43m                                  \u001B[49m\u001B[43mold_fval\u001B[49m\u001B[43m,\u001B[49m\u001B[43m \u001B[49m\u001B[43mold_old_fval\u001B[49m\u001B[43m,\u001B[49m\u001B[43m \u001B[49m\u001B[43mamin\u001B[49m\u001B[38;5;241;43m=\u001B[39;49m\u001B[38;5;241;43m1e-100\u001B[39;49m\u001B[43m,\u001B[49m\n\u001B[1;32m   1400\u001B[0m \u001B[43m                                  \u001B[49m\u001B[43mamax\u001B[49m\u001B[38;5;241;43m=\u001B[39;49m\u001B[38;5;241;43m1e100\u001B[39;49m\u001B[43m,\u001B[49m\u001B[43m \u001B[49m\u001B[43mc1\u001B[49m\u001B[38;5;241;43m=\u001B[39;49m\u001B[43mc1\u001B[49m\u001B[43m,\u001B[49m\u001B[43m \u001B[49m\u001B[43mc2\u001B[49m\u001B[38;5;241;43m=\u001B[39;49m\u001B[43mc2\u001B[49m\u001B[43m)\u001B[49m\n\u001B[1;32m   1401\u001B[0m \u001B[38;5;28;01mexcept\u001B[39;00m _LineSearchError:\n\u001B[1;32m   1402\u001B[0m     \u001B[38;5;66;03m# Line search failed to find a better solution.\u001B[39;00m\n\u001B[1;32m   1403\u001B[0m     warnflag \u001B[38;5;241m=\u001B[39m \u001B[38;5;241m2\u001B[39m\n",
      "File \u001B[0;32m~/PycharmProjects/croor/.venv/lib/python3.9/site-packages/scipy/optimize/_optimize.py:1134\u001B[0m, in \u001B[0;36m_line_search_wolfe12\u001B[0;34m(f, fprime, xk, pk, gfk, old_fval, old_old_fval, **kwargs)\u001B[0m\n\u001B[1;32m   1120\u001B[0m \u001B[38;5;250m\u001B[39m\u001B[38;5;124;03m\"\"\"\u001B[39;00m\n\u001B[1;32m   1121\u001B[0m \u001B[38;5;124;03mSame as line_search_wolfe1, but fall back to line_search_wolfe2 if\u001B[39;00m\n\u001B[1;32m   1122\u001B[0m \u001B[38;5;124;03msuitable step length is not found, and raise an exception if a\u001B[39;00m\n\u001B[0;32m   (...)\u001B[0m\n\u001B[1;32m   1129\u001B[0m \n\u001B[1;32m   1130\u001B[0m \u001B[38;5;124;03m\"\"\"\u001B[39;00m\n\u001B[1;32m   1132\u001B[0m extra_condition \u001B[38;5;241m=\u001B[39m kwargs\u001B[38;5;241m.\u001B[39mpop(\u001B[38;5;124m'\u001B[39m\u001B[38;5;124mextra_condition\u001B[39m\u001B[38;5;124m'\u001B[39m, \u001B[38;5;28;01mNone\u001B[39;00m)\n\u001B[0;32m-> 1134\u001B[0m ret \u001B[38;5;241m=\u001B[39m \u001B[43mline_search_wolfe1\u001B[49m\u001B[43m(\u001B[49m\u001B[43mf\u001B[49m\u001B[43m,\u001B[49m\u001B[43m \u001B[49m\u001B[43mfprime\u001B[49m\u001B[43m,\u001B[49m\u001B[43m \u001B[49m\u001B[43mxk\u001B[49m\u001B[43m,\u001B[49m\u001B[43m \u001B[49m\u001B[43mpk\u001B[49m\u001B[43m,\u001B[49m\u001B[43m \u001B[49m\u001B[43mgfk\u001B[49m\u001B[43m,\u001B[49m\n\u001B[1;32m   1135\u001B[0m \u001B[43m                         \u001B[49m\u001B[43mold_fval\u001B[49m\u001B[43m,\u001B[49m\u001B[43m \u001B[49m\u001B[43mold_old_fval\u001B[49m\u001B[43m,\u001B[49m\n\u001B[1;32m   1136\u001B[0m \u001B[43m                         \u001B[49m\u001B[38;5;241;43m*\u001B[39;49m\u001B[38;5;241;43m*\u001B[39;49m\u001B[43mkwargs\u001B[49m\u001B[43m)\u001B[49m\n\u001B[1;32m   1138\u001B[0m \u001B[38;5;28;01mif\u001B[39;00m ret[\u001B[38;5;241m0\u001B[39m] \u001B[38;5;129;01mis\u001B[39;00m \u001B[38;5;129;01mnot\u001B[39;00m \u001B[38;5;28;01mNone\u001B[39;00m \u001B[38;5;129;01mand\u001B[39;00m extra_condition \u001B[38;5;129;01mis\u001B[39;00m \u001B[38;5;129;01mnot\u001B[39;00m \u001B[38;5;28;01mNone\u001B[39;00m:\n\u001B[1;32m   1139\u001B[0m     xp1 \u001B[38;5;241m=\u001B[39m xk \u001B[38;5;241m+\u001B[39m ret[\u001B[38;5;241m0\u001B[39m] \u001B[38;5;241m*\u001B[39m pk\n",
      "File \u001B[0;32m~/PycharmProjects/croor/.venv/lib/python3.9/site-packages/scipy/optimize/_linesearch.py:94\u001B[0m, in \u001B[0;36mline_search_wolfe1\u001B[0;34m(f, fprime, xk, pk, gfk, old_fval, old_old_fval, args, c1, c2, amax, amin, xtol)\u001B[0m\n\u001B[1;32m     90\u001B[0m     \u001B[38;5;28;01mreturn\u001B[39;00m np\u001B[38;5;241m.\u001B[39mdot(gval[\u001B[38;5;241m0\u001B[39m], pk)\n\u001B[1;32m     92\u001B[0m derphi0 \u001B[38;5;241m=\u001B[39m np\u001B[38;5;241m.\u001B[39mdot(gfk, pk)\n\u001B[0;32m---> 94\u001B[0m stp, fval, old_fval \u001B[38;5;241m=\u001B[39m \u001B[43mscalar_search_wolfe1\u001B[49m\u001B[43m(\u001B[49m\n\u001B[1;32m     95\u001B[0m \u001B[43m        \u001B[49m\u001B[43mphi\u001B[49m\u001B[43m,\u001B[49m\u001B[43m \u001B[49m\u001B[43mderphi\u001B[49m\u001B[43m,\u001B[49m\u001B[43m \u001B[49m\u001B[43mold_fval\u001B[49m\u001B[43m,\u001B[49m\u001B[43m \u001B[49m\u001B[43mold_old_fval\u001B[49m\u001B[43m,\u001B[49m\u001B[43m \u001B[49m\u001B[43mderphi0\u001B[49m\u001B[43m,\u001B[49m\n\u001B[1;32m     96\u001B[0m \u001B[43m        \u001B[49m\u001B[43mc1\u001B[49m\u001B[38;5;241;43m=\u001B[39;49m\u001B[43mc1\u001B[49m\u001B[43m,\u001B[49m\u001B[43m \u001B[49m\u001B[43mc2\u001B[49m\u001B[38;5;241;43m=\u001B[39;49m\u001B[43mc2\u001B[49m\u001B[43m,\u001B[49m\u001B[43m \u001B[49m\u001B[43mamax\u001B[49m\u001B[38;5;241;43m=\u001B[39;49m\u001B[43mamax\u001B[49m\u001B[43m,\u001B[49m\u001B[43m \u001B[49m\u001B[43mamin\u001B[49m\u001B[38;5;241;43m=\u001B[39;49m\u001B[43mamin\u001B[49m\u001B[43m,\u001B[49m\u001B[43m \u001B[49m\u001B[43mxtol\u001B[49m\u001B[38;5;241;43m=\u001B[39;49m\u001B[43mxtol\u001B[49m\u001B[43m)\u001B[49m\n\u001B[1;32m     98\u001B[0m \u001B[38;5;28;01mreturn\u001B[39;00m stp, fc[\u001B[38;5;241m0\u001B[39m], gc[\u001B[38;5;241m0\u001B[39m], fval, old_fval, gval[\u001B[38;5;241m0\u001B[39m]\n",
      "File \u001B[0;32m~/PycharmProjects/croor/.venv/lib/python3.9/site-packages/scipy/optimize/_linesearch.py:171\u001B[0m, in \u001B[0;36mscalar_search_wolfe1\u001B[0;34m(phi, derphi, phi0, old_phi0, derphi0, c1, c2, amax, amin, xtol)\u001B[0m\n\u001B[1;32m    168\u001B[0m maxiter \u001B[38;5;241m=\u001B[39m \u001B[38;5;241m100\u001B[39m\n\u001B[1;32m    170\u001B[0m dcsrch \u001B[38;5;241m=\u001B[39m DCSRCH(phi, derphi, c1, c2, xtol, amin, amax)\n\u001B[0;32m--> 171\u001B[0m stp, phi1, phi0, task \u001B[38;5;241m=\u001B[39m \u001B[43mdcsrch\u001B[49m\u001B[43m(\u001B[49m\n\u001B[1;32m    172\u001B[0m \u001B[43m    \u001B[49m\u001B[43malpha1\u001B[49m\u001B[43m,\u001B[49m\u001B[43m \u001B[49m\u001B[43mphi0\u001B[49m\u001B[38;5;241;43m=\u001B[39;49m\u001B[43mphi0\u001B[49m\u001B[43m,\u001B[49m\u001B[43m \u001B[49m\u001B[43mderphi0\u001B[49m\u001B[38;5;241;43m=\u001B[39;49m\u001B[43mderphi0\u001B[49m\u001B[43m,\u001B[49m\u001B[43m \u001B[49m\u001B[43mmaxiter\u001B[49m\u001B[38;5;241;43m=\u001B[39;49m\u001B[43mmaxiter\u001B[49m\n\u001B[1;32m    173\u001B[0m \u001B[43m\u001B[49m\u001B[43m)\u001B[49m\n\u001B[1;32m    175\u001B[0m \u001B[38;5;28;01mreturn\u001B[39;00m stp, phi1, phi0\n",
      "File \u001B[0;32m~/PycharmProjects/croor/.venv/lib/python3.9/site-packages/scipy/optimize/_dcsrch.py:256\u001B[0m, in \u001B[0;36mDCSRCH.__call__\u001B[0;34m(self, alpha1, phi0, derphi0, maxiter)\u001B[0m\n\u001B[1;32m    254\u001B[0m     alpha1 \u001B[38;5;241m=\u001B[39m stp\n\u001B[1;32m    255\u001B[0m     phi1 \u001B[38;5;241m=\u001B[39m \u001B[38;5;28mself\u001B[39m\u001B[38;5;241m.\u001B[39mphi(stp)\n\u001B[0;32m--> 256\u001B[0m     derphi1 \u001B[38;5;241m=\u001B[39m \u001B[38;5;28;43mself\u001B[39;49m\u001B[38;5;241;43m.\u001B[39;49m\u001B[43mderphi\u001B[49m\u001B[43m(\u001B[49m\u001B[43mstp\u001B[49m\u001B[43m)\u001B[49m\n\u001B[1;32m    257\u001B[0m \u001B[38;5;28;01melse\u001B[39;00m:\n\u001B[1;32m    258\u001B[0m     \u001B[38;5;28;01mbreak\u001B[39;00m\n",
      "File \u001B[0;32m~/PycharmProjects/croor/.venv/lib/python3.9/site-packages/scipy/optimize/_linesearch.py:88\u001B[0m, in \u001B[0;36mline_search_wolfe1.<locals>.derphi\u001B[0;34m(s)\u001B[0m\n\u001B[1;32m     87\u001B[0m \u001B[38;5;28;01mdef\u001B[39;00m \u001B[38;5;21mderphi\u001B[39m(s):\n\u001B[0;32m---> 88\u001B[0m     gval[\u001B[38;5;241m0\u001B[39m] \u001B[38;5;241m=\u001B[39m \u001B[43mfprime\u001B[49m\u001B[43m(\u001B[49m\u001B[43mxk\u001B[49m\u001B[43m \u001B[49m\u001B[38;5;241;43m+\u001B[39;49m\u001B[43m \u001B[49m\u001B[43ms\u001B[49m\u001B[38;5;241;43m*\u001B[39;49m\u001B[43mpk\u001B[49m\u001B[43m,\u001B[49m\u001B[43m \u001B[49m\u001B[38;5;241;43m*\u001B[39;49m\u001B[43margs\u001B[49m\u001B[43m)\u001B[49m\n\u001B[1;32m     89\u001B[0m     gc[\u001B[38;5;241m0\u001B[39m] \u001B[38;5;241m+\u001B[39m\u001B[38;5;241m=\u001B[39m \u001B[38;5;241m1\u001B[39m\n\u001B[1;32m     90\u001B[0m     \u001B[38;5;28;01mreturn\u001B[39;00m np\u001B[38;5;241m.\u001B[39mdot(gval[\u001B[38;5;241m0\u001B[39m], pk)\n",
      "File \u001B[0;32m~/PycharmProjects/croor/.venv/lib/python3.9/site-packages/scipy/optimize/_differentiable_functions.py:284\u001B[0m, in \u001B[0;36mScalarFunction.grad\u001B[0;34m(self, x)\u001B[0m\n\u001B[1;32m    282\u001B[0m \u001B[38;5;28;01mif\u001B[39;00m \u001B[38;5;129;01mnot\u001B[39;00m np\u001B[38;5;241m.\u001B[39marray_equal(x, \u001B[38;5;28mself\u001B[39m\u001B[38;5;241m.\u001B[39mx):\n\u001B[1;32m    283\u001B[0m     \u001B[38;5;28mself\u001B[39m\u001B[38;5;241m.\u001B[39m_update_x_impl(x)\n\u001B[0;32m--> 284\u001B[0m \u001B[38;5;28;43mself\u001B[39;49m\u001B[38;5;241;43m.\u001B[39;49m\u001B[43m_update_grad\u001B[49m\u001B[43m(\u001B[49m\u001B[43m)\u001B[49m\n\u001B[1;32m    285\u001B[0m \u001B[38;5;28;01mreturn\u001B[39;00m \u001B[38;5;28mself\u001B[39m\u001B[38;5;241m.\u001B[39mg\n",
      "File \u001B[0;32m~/PycharmProjects/croor/.venv/lib/python3.9/site-packages/scipy/optimize/_differentiable_functions.py:267\u001B[0m, in \u001B[0;36mScalarFunction._update_grad\u001B[0;34m(self)\u001B[0m\n\u001B[1;32m    265\u001B[0m \u001B[38;5;28;01mdef\u001B[39;00m \u001B[38;5;21m_update_grad\u001B[39m(\u001B[38;5;28mself\u001B[39m):\n\u001B[1;32m    266\u001B[0m     \u001B[38;5;28;01mif\u001B[39;00m \u001B[38;5;129;01mnot\u001B[39;00m \u001B[38;5;28mself\u001B[39m\u001B[38;5;241m.\u001B[39mg_updated:\n\u001B[0;32m--> 267\u001B[0m         \u001B[38;5;28;43mself\u001B[39;49m\u001B[38;5;241;43m.\u001B[39;49m\u001B[43m_update_grad_impl\u001B[49m\u001B[43m(\u001B[49m\u001B[43m)\u001B[49m\n\u001B[1;32m    268\u001B[0m         \u001B[38;5;28mself\u001B[39m\u001B[38;5;241m.\u001B[39mg_updated \u001B[38;5;241m=\u001B[39m \u001B[38;5;28;01mTrue\u001B[39;00m\n",
      "File \u001B[0;32m~/PycharmProjects/croor/.venv/lib/python3.9/site-packages/scipy/optimize/_differentiable_functions.py:181\u001B[0m, in \u001B[0;36mScalarFunction.__init__.<locals>.update_grad\u001B[0;34m()\u001B[0m\n\u001B[1;32m    179\u001B[0m \u001B[38;5;28mself\u001B[39m\u001B[38;5;241m.\u001B[39m_update_fun()\n\u001B[1;32m    180\u001B[0m \u001B[38;5;28mself\u001B[39m\u001B[38;5;241m.\u001B[39mngev \u001B[38;5;241m+\u001B[39m\u001B[38;5;241m=\u001B[39m \u001B[38;5;241m1\u001B[39m\n\u001B[0;32m--> 181\u001B[0m \u001B[38;5;28mself\u001B[39m\u001B[38;5;241m.\u001B[39mg \u001B[38;5;241m=\u001B[39m \u001B[43mapprox_derivative\u001B[49m\u001B[43m(\u001B[49m\u001B[43mfun_wrapped\u001B[49m\u001B[43m,\u001B[49m\u001B[43m \u001B[49m\u001B[38;5;28;43mself\u001B[39;49m\u001B[38;5;241;43m.\u001B[39;49m\u001B[43mx\u001B[49m\u001B[43m,\u001B[49m\u001B[43m \u001B[49m\u001B[43mf0\u001B[49m\u001B[38;5;241;43m=\u001B[39;49m\u001B[38;5;28;43mself\u001B[39;49m\u001B[38;5;241;43m.\u001B[39;49m\u001B[43mf\u001B[49m\u001B[43m,\u001B[49m\n\u001B[1;32m    182\u001B[0m \u001B[43m                           \u001B[49m\u001B[38;5;241;43m*\u001B[39;49m\u001B[38;5;241;43m*\u001B[39;49m\u001B[43mfinite_diff_options\u001B[49m\u001B[43m)\u001B[49m\n",
      "File \u001B[0;32m~/PycharmProjects/croor/.venv/lib/python3.9/site-packages/scipy/optimize/_numdiff.py:519\u001B[0m, in \u001B[0;36mapprox_derivative\u001B[0;34m(fun, x0, method, rel_step, abs_step, f0, bounds, sparsity, as_linear_operator, args, kwargs)\u001B[0m\n\u001B[1;32m    516\u001B[0m     use_one_sided \u001B[38;5;241m=\u001B[39m \u001B[38;5;28;01mFalse\u001B[39;00m\n\u001B[1;32m    518\u001B[0m \u001B[38;5;28;01mif\u001B[39;00m sparsity \u001B[38;5;129;01mis\u001B[39;00m \u001B[38;5;28;01mNone\u001B[39;00m:\n\u001B[0;32m--> 519\u001B[0m     \u001B[38;5;28;01mreturn\u001B[39;00m \u001B[43m_dense_difference\u001B[49m\u001B[43m(\u001B[49m\u001B[43mfun_wrapped\u001B[49m\u001B[43m,\u001B[49m\u001B[43m \u001B[49m\u001B[43mx0\u001B[49m\u001B[43m,\u001B[49m\u001B[43m \u001B[49m\u001B[43mf0\u001B[49m\u001B[43m,\u001B[49m\u001B[43m \u001B[49m\u001B[43mh\u001B[49m\u001B[43m,\u001B[49m\n\u001B[1;32m    520\u001B[0m \u001B[43m                             \u001B[49m\u001B[43muse_one_sided\u001B[49m\u001B[43m,\u001B[49m\u001B[43m \u001B[49m\u001B[43mmethod\u001B[49m\u001B[43m)\u001B[49m\n\u001B[1;32m    521\u001B[0m \u001B[38;5;28;01melse\u001B[39;00m:\n\u001B[1;32m    522\u001B[0m     \u001B[38;5;28;01mif\u001B[39;00m \u001B[38;5;129;01mnot\u001B[39;00m issparse(sparsity) \u001B[38;5;129;01mand\u001B[39;00m \u001B[38;5;28mlen\u001B[39m(sparsity) \u001B[38;5;241m==\u001B[39m \u001B[38;5;241m2\u001B[39m:\n",
      "File \u001B[0;32m~/PycharmProjects/croor/.venv/lib/python3.9/site-packages/scipy/optimize/_numdiff.py:590\u001B[0m, in \u001B[0;36m_dense_difference\u001B[0;34m(fun, x0, f0, h, use_one_sided, method)\u001B[0m\n\u001B[1;32m    588\u001B[0m     x \u001B[38;5;241m=\u001B[39m x0 \u001B[38;5;241m+\u001B[39m h_vecs[i]\n\u001B[1;32m    589\u001B[0m     dx \u001B[38;5;241m=\u001B[39m x[i] \u001B[38;5;241m-\u001B[39m x0[i]  \u001B[38;5;66;03m# Recompute dx as exactly representable number.\u001B[39;00m\n\u001B[0;32m--> 590\u001B[0m     df \u001B[38;5;241m=\u001B[39m \u001B[43mfun\u001B[49m\u001B[43m(\u001B[49m\u001B[43mx\u001B[49m\u001B[43m)\u001B[49m \u001B[38;5;241m-\u001B[39m f0\n\u001B[1;32m    591\u001B[0m \u001B[38;5;28;01melif\u001B[39;00m method \u001B[38;5;241m==\u001B[39m \u001B[38;5;124m'\u001B[39m\u001B[38;5;124m3-point\u001B[39m\u001B[38;5;124m'\u001B[39m \u001B[38;5;129;01mand\u001B[39;00m use_one_sided[i]:\n\u001B[1;32m    592\u001B[0m     x1 \u001B[38;5;241m=\u001B[39m x0 \u001B[38;5;241m+\u001B[39m h_vecs[i]\n",
      "File \u001B[0;32m~/PycharmProjects/croor/.venv/lib/python3.9/site-packages/scipy/optimize/_numdiff.py:470\u001B[0m, in \u001B[0;36mapprox_derivative.<locals>.fun_wrapped\u001B[0;34m(x)\u001B[0m\n\u001B[1;32m    467\u001B[0m \u001B[38;5;28;01mif\u001B[39;00m xp\u001B[38;5;241m.\u001B[39misdtype(x\u001B[38;5;241m.\u001B[39mdtype, \u001B[38;5;124m\"\u001B[39m\u001B[38;5;124mreal floating\u001B[39m\u001B[38;5;124m\"\u001B[39m):\n\u001B[1;32m    468\u001B[0m     x \u001B[38;5;241m=\u001B[39m xp\u001B[38;5;241m.\u001B[39mastype(x, x0\u001B[38;5;241m.\u001B[39mdtype)\n\u001B[0;32m--> 470\u001B[0m f \u001B[38;5;241m=\u001B[39m np\u001B[38;5;241m.\u001B[39matleast_1d(\u001B[43mfun\u001B[49m\u001B[43m(\u001B[49m\u001B[43mx\u001B[49m\u001B[43m,\u001B[49m\u001B[43m \u001B[49m\u001B[38;5;241;43m*\u001B[39;49m\u001B[43margs\u001B[49m\u001B[43m,\u001B[49m\u001B[43m \u001B[49m\u001B[38;5;241;43m*\u001B[39;49m\u001B[38;5;241;43m*\u001B[39;49m\u001B[43mkwargs\u001B[49m\u001B[43m)\u001B[49m)\n\u001B[1;32m    471\u001B[0m \u001B[38;5;28;01mif\u001B[39;00m f\u001B[38;5;241m.\u001B[39mndim \u001B[38;5;241m>\u001B[39m \u001B[38;5;241m1\u001B[39m:\n\u001B[1;32m    472\u001B[0m     \u001B[38;5;28;01mraise\u001B[39;00m \u001B[38;5;167;01mRuntimeError\u001B[39;00m(\u001B[38;5;124m\"\u001B[39m\u001B[38;5;124m`fun` return value has \u001B[39m\u001B[38;5;124m\"\u001B[39m\n\u001B[1;32m    473\u001B[0m                        \u001B[38;5;124m\"\u001B[39m\u001B[38;5;124mmore than 1 dimension.\u001B[39m\u001B[38;5;124m\"\u001B[39m)\n",
      "File \u001B[0;32m~/PycharmProjects/croor/.venv/lib/python3.9/site-packages/scipy/optimize/_differentiable_functions.py:145\u001B[0m, in \u001B[0;36mScalarFunction.__init__.<locals>.fun_wrapped\u001B[0;34m(x)\u001B[0m\n\u001B[1;32m    141\u001B[0m \u001B[38;5;28mself\u001B[39m\u001B[38;5;241m.\u001B[39mnfev \u001B[38;5;241m+\u001B[39m\u001B[38;5;241m=\u001B[39m \u001B[38;5;241m1\u001B[39m\n\u001B[1;32m    142\u001B[0m \u001B[38;5;66;03m# Send a copy because the user may overwrite it.\u001B[39;00m\n\u001B[1;32m    143\u001B[0m \u001B[38;5;66;03m# Overwriting results in undefined behaviour because\u001B[39;00m\n\u001B[1;32m    144\u001B[0m \u001B[38;5;66;03m# fun(self.x) will change self.x, with the two no longer linked.\u001B[39;00m\n\u001B[0;32m--> 145\u001B[0m fx \u001B[38;5;241m=\u001B[39m \u001B[43mfun\u001B[49m\u001B[43m(\u001B[49m\u001B[43mnp\u001B[49m\u001B[38;5;241;43m.\u001B[39;49m\u001B[43mcopy\u001B[49m\u001B[43m(\u001B[49m\u001B[43mx\u001B[49m\u001B[43m)\u001B[49m\u001B[43m,\u001B[49m\u001B[43m \u001B[49m\u001B[38;5;241;43m*\u001B[39;49m\u001B[43margs\u001B[49m\u001B[43m)\u001B[49m\n\u001B[1;32m    146\u001B[0m \u001B[38;5;66;03m# Make sure the function returns a true scalar\u001B[39;00m\n\u001B[1;32m    147\u001B[0m \u001B[38;5;28;01mif\u001B[39;00m \u001B[38;5;129;01mnot\u001B[39;00m np\u001B[38;5;241m.\u001B[39misscalar(fx):\n",
      "Cell \u001B[0;32mIn[7], line 26\u001B[0m, in \u001B[0;36mbliss_cost_fn\u001B[0;34m(params, trun_H, num_modes, num_elec)\u001B[0m\n\u001B[1;32m     22\u001B[0m truncated_H \u001B[38;5;241m-\u001B[39m\u001B[38;5;241m=\u001B[39m mu1 \u001B[38;5;241m*\u001B[39m (total_number_operator \u001B[38;5;241m-\u001B[39m num_elec)\n\u001B[1;32m     23\u001B[0m truncated_H \u001B[38;5;241m-\u001B[39m\u001B[38;5;241m=\u001B[39m mu2 \u001B[38;5;241m*\u001B[39m (\n\u001B[1;32m     24\u001B[0m             total_number_operator \u001B[38;5;241m*\u001B[39m total_number_operator \u001B[38;5;241m-\u001B[39m num_elec \u001B[38;5;241m*\u001B[39m\u001B[38;5;241m*\u001B[39m \u001B[38;5;241m2\u001B[39m)\n\u001B[1;32m     25\u001B[0m truncated_H \u001B[38;5;241m-\u001B[39m\u001B[38;5;241m=\u001B[39m mu3 \u001B[38;5;241m*\u001B[39m (\n\u001B[0;32m---> 26\u001B[0m             \u001B[43mtotal_number_operator\u001B[49m\u001B[43m \u001B[49m\u001B[38;5;241;43m*\u001B[39;49m\u001B[43m \u001B[49m\u001B[43mtotal_number_operator\u001B[49m\u001B[43m \u001B[49m\u001B[38;5;241;43m*\u001B[39;49m\u001B[43m \u001B[49m\u001B[43mtotal_number_operator\u001B[49m\u001B[43m \u001B[49m\u001B[38;5;241;43m-\u001B[39;49m\u001B[43m \u001B[49m\u001B[43mnum_elec\u001B[49m\u001B[43m \u001B[49m\u001B[38;5;241;43m*\u001B[39;49m\u001B[38;5;241;43m*\u001B[39;49m\u001B[43m \u001B[49m\u001B[38;5;241;43m3\u001B[39;49m)\n\u001B[1;32m     27\u001B[0m O \u001B[38;5;241m=\u001B[39m construct_symmetric_fermion_operator(sym_matrix)\n\u001B[1;32m     28\u001B[0m O_2 \u001B[38;5;241m=\u001B[39m construct_symmetric_fermion_operator(sym_matrix2)\n",
      "File \u001B[0;32m~/PycharmProjects/croor/.venv/lib/python3.9/site-packages/openfermion/ops/operators/symbolic_operator.py:500\u001B[0m, in \u001B[0;36mSymbolicOperator.__sub__\u001B[0;34m(self, subtrahend)\u001B[0m\n\u001B[1;32m    492\u001B[0m \u001B[38;5;28;01mdef\u001B[39;00m \u001B[38;5;21m__sub__\u001B[39m(\u001B[38;5;28mself\u001B[39m, subtrahend):\n\u001B[1;32m    493\u001B[0m \u001B[38;5;250m    \u001B[39m\u001B[38;5;124;03m\"\"\"\u001B[39;00m\n\u001B[1;32m    494\u001B[0m \u001B[38;5;124;03m    Args:\u001B[39;00m\n\u001B[1;32m    495\u001B[0m \u001B[38;5;124;03m        subtrahend (SymbolicOperator): The operator to subtract.\u001B[39;00m\n\u001B[0;32m   (...)\u001B[0m\n\u001B[1;32m    498\u001B[0m \u001B[38;5;124;03m        difference (SymbolicOperator)\u001B[39;00m\n\u001B[1;32m    499\u001B[0m \u001B[38;5;124;03m    \"\"\"\u001B[39;00m\n\u001B[0;32m--> 500\u001B[0m     minuend \u001B[38;5;241m=\u001B[39m \u001B[43mcopy\u001B[49m\u001B[38;5;241;43m.\u001B[39;49m\u001B[43mdeepcopy\u001B[49m\u001B[43m(\u001B[49m\u001B[38;5;28;43mself\u001B[39;49m\u001B[43m)\u001B[49m\n\u001B[1;32m    501\u001B[0m     minuend \u001B[38;5;241m-\u001B[39m\u001B[38;5;241m=\u001B[39m subtrahend\n\u001B[1;32m    502\u001B[0m     \u001B[38;5;28;01mreturn\u001B[39;00m minuend\n",
      "File \u001B[0;32m/Applications/Xcode.app/Contents/Developer/Library/Frameworks/Python3.framework/Versions/3.9/lib/python3.9/copy.py:172\u001B[0m, in \u001B[0;36mdeepcopy\u001B[0;34m(x, memo, _nil)\u001B[0m\n\u001B[1;32m    170\u001B[0m                 y \u001B[38;5;241m=\u001B[39m x\n\u001B[1;32m    171\u001B[0m             \u001B[38;5;28;01melse\u001B[39;00m:\n\u001B[0;32m--> 172\u001B[0m                 y \u001B[38;5;241m=\u001B[39m \u001B[43m_reconstruct\u001B[49m\u001B[43m(\u001B[49m\u001B[43mx\u001B[49m\u001B[43m,\u001B[49m\u001B[43m \u001B[49m\u001B[43mmemo\u001B[49m\u001B[43m,\u001B[49m\u001B[43m \u001B[49m\u001B[38;5;241;43m*\u001B[39;49m\u001B[43mrv\u001B[49m\u001B[43m)\u001B[49m\n\u001B[1;32m    174\u001B[0m \u001B[38;5;66;03m# If is its own copy, don't memoize.\u001B[39;00m\n\u001B[1;32m    175\u001B[0m \u001B[38;5;28;01mif\u001B[39;00m y \u001B[38;5;129;01mis\u001B[39;00m \u001B[38;5;129;01mnot\u001B[39;00m x:\n",
      "File \u001B[0;32m/Applications/Xcode.app/Contents/Developer/Library/Frameworks/Python3.framework/Versions/3.9/lib/python3.9/copy.py:270\u001B[0m, in \u001B[0;36m_reconstruct\u001B[0;34m(x, memo, func, args, state, listiter, dictiter, deepcopy)\u001B[0m\n\u001B[1;32m    268\u001B[0m \u001B[38;5;28;01mif\u001B[39;00m state \u001B[38;5;129;01mis\u001B[39;00m \u001B[38;5;129;01mnot\u001B[39;00m \u001B[38;5;28;01mNone\u001B[39;00m:\n\u001B[1;32m    269\u001B[0m     \u001B[38;5;28;01mif\u001B[39;00m deep:\n\u001B[0;32m--> 270\u001B[0m         state \u001B[38;5;241m=\u001B[39m \u001B[43mdeepcopy\u001B[49m\u001B[43m(\u001B[49m\u001B[43mstate\u001B[49m\u001B[43m,\u001B[49m\u001B[43m \u001B[49m\u001B[43mmemo\u001B[49m\u001B[43m)\u001B[49m\n\u001B[1;32m    271\u001B[0m     \u001B[38;5;28;01mif\u001B[39;00m \u001B[38;5;28mhasattr\u001B[39m(y, \u001B[38;5;124m'\u001B[39m\u001B[38;5;124m__setstate__\u001B[39m\u001B[38;5;124m'\u001B[39m):\n\u001B[1;32m    272\u001B[0m         y\u001B[38;5;241m.\u001B[39m__setstate__(state)\n",
      "File \u001B[0;32m/Applications/Xcode.app/Contents/Developer/Library/Frameworks/Python3.framework/Versions/3.9/lib/python3.9/copy.py:146\u001B[0m, in \u001B[0;36mdeepcopy\u001B[0;34m(x, memo, _nil)\u001B[0m\n\u001B[1;32m    144\u001B[0m copier \u001B[38;5;241m=\u001B[39m _deepcopy_dispatch\u001B[38;5;241m.\u001B[39mget(\u001B[38;5;28mcls\u001B[39m)\n\u001B[1;32m    145\u001B[0m \u001B[38;5;28;01mif\u001B[39;00m copier \u001B[38;5;129;01mis\u001B[39;00m \u001B[38;5;129;01mnot\u001B[39;00m \u001B[38;5;28;01mNone\u001B[39;00m:\n\u001B[0;32m--> 146\u001B[0m     y \u001B[38;5;241m=\u001B[39m \u001B[43mcopier\u001B[49m\u001B[43m(\u001B[49m\u001B[43mx\u001B[49m\u001B[43m,\u001B[49m\u001B[43m \u001B[49m\u001B[43mmemo\u001B[49m\u001B[43m)\u001B[49m\n\u001B[1;32m    147\u001B[0m \u001B[38;5;28;01melse\u001B[39;00m:\n\u001B[1;32m    148\u001B[0m     \u001B[38;5;28;01mif\u001B[39;00m \u001B[38;5;28missubclass\u001B[39m(\u001B[38;5;28mcls\u001B[39m, \u001B[38;5;28mtype\u001B[39m):\n",
      "File \u001B[0;32m/Applications/Xcode.app/Contents/Developer/Library/Frameworks/Python3.framework/Versions/3.9/lib/python3.9/copy.py:230\u001B[0m, in \u001B[0;36m_deepcopy_dict\u001B[0;34m(x, memo, deepcopy)\u001B[0m\n\u001B[1;32m    228\u001B[0m memo[\u001B[38;5;28mid\u001B[39m(x)] \u001B[38;5;241m=\u001B[39m y\n\u001B[1;32m    229\u001B[0m \u001B[38;5;28;01mfor\u001B[39;00m key, value \u001B[38;5;129;01min\u001B[39;00m x\u001B[38;5;241m.\u001B[39mitems():\n\u001B[0;32m--> 230\u001B[0m     y[deepcopy(key, memo)] \u001B[38;5;241m=\u001B[39m \u001B[43mdeepcopy\u001B[49m\u001B[43m(\u001B[49m\u001B[43mvalue\u001B[49m\u001B[43m,\u001B[49m\u001B[43m \u001B[49m\u001B[43mmemo\u001B[49m\u001B[43m)\u001B[49m\n\u001B[1;32m    231\u001B[0m \u001B[38;5;28;01mreturn\u001B[39;00m y\n",
      "File \u001B[0;32m/Applications/Xcode.app/Contents/Developer/Library/Frameworks/Python3.framework/Versions/3.9/lib/python3.9/copy.py:146\u001B[0m, in \u001B[0;36mdeepcopy\u001B[0;34m(x, memo, _nil)\u001B[0m\n\u001B[1;32m    144\u001B[0m copier \u001B[38;5;241m=\u001B[39m _deepcopy_dispatch\u001B[38;5;241m.\u001B[39mget(\u001B[38;5;28mcls\u001B[39m)\n\u001B[1;32m    145\u001B[0m \u001B[38;5;28;01mif\u001B[39;00m copier \u001B[38;5;129;01mis\u001B[39;00m \u001B[38;5;129;01mnot\u001B[39;00m \u001B[38;5;28;01mNone\u001B[39;00m:\n\u001B[0;32m--> 146\u001B[0m     y \u001B[38;5;241m=\u001B[39m \u001B[43mcopier\u001B[49m\u001B[43m(\u001B[49m\u001B[43mx\u001B[49m\u001B[43m,\u001B[49m\u001B[43m \u001B[49m\u001B[43mmemo\u001B[49m\u001B[43m)\u001B[49m\n\u001B[1;32m    147\u001B[0m \u001B[38;5;28;01melse\u001B[39;00m:\n\u001B[1;32m    148\u001B[0m     \u001B[38;5;28;01mif\u001B[39;00m \u001B[38;5;28missubclass\u001B[39m(\u001B[38;5;28mcls\u001B[39m, \u001B[38;5;28mtype\u001B[39m):\n",
      "File \u001B[0;32m/Applications/Xcode.app/Contents/Developer/Library/Frameworks/Python3.framework/Versions/3.9/lib/python3.9/copy.py:230\u001B[0m, in \u001B[0;36m_deepcopy_dict\u001B[0;34m(x, memo, deepcopy)\u001B[0m\n\u001B[1;32m    228\u001B[0m memo[\u001B[38;5;28mid\u001B[39m(x)] \u001B[38;5;241m=\u001B[39m y\n\u001B[1;32m    229\u001B[0m \u001B[38;5;28;01mfor\u001B[39;00m key, value \u001B[38;5;129;01min\u001B[39;00m x\u001B[38;5;241m.\u001B[39mitems():\n\u001B[0;32m--> 230\u001B[0m     y[\u001B[43mdeepcopy\u001B[49m\u001B[43m(\u001B[49m\u001B[43mkey\u001B[49m\u001B[43m,\u001B[49m\u001B[43m \u001B[49m\u001B[43mmemo\u001B[49m\u001B[43m)\u001B[49m] \u001B[38;5;241m=\u001B[39m deepcopy(value, memo)\n\u001B[1;32m    231\u001B[0m \u001B[38;5;28;01mreturn\u001B[39;00m y\n",
      "File \u001B[0;32m/Applications/Xcode.app/Contents/Developer/Library/Frameworks/Python3.framework/Versions/3.9/lib/python3.9/copy.py:146\u001B[0m, in \u001B[0;36mdeepcopy\u001B[0;34m(x, memo, _nil)\u001B[0m\n\u001B[1;32m    144\u001B[0m copier \u001B[38;5;241m=\u001B[39m _deepcopy_dispatch\u001B[38;5;241m.\u001B[39mget(\u001B[38;5;28mcls\u001B[39m)\n\u001B[1;32m    145\u001B[0m \u001B[38;5;28;01mif\u001B[39;00m copier \u001B[38;5;129;01mis\u001B[39;00m \u001B[38;5;129;01mnot\u001B[39;00m \u001B[38;5;28;01mNone\u001B[39;00m:\n\u001B[0;32m--> 146\u001B[0m     y \u001B[38;5;241m=\u001B[39m \u001B[43mcopier\u001B[49m\u001B[43m(\u001B[49m\u001B[43mx\u001B[49m\u001B[43m,\u001B[49m\u001B[43m \u001B[49m\u001B[43mmemo\u001B[49m\u001B[43m)\u001B[49m\n\u001B[1;32m    147\u001B[0m \u001B[38;5;28;01melse\u001B[39;00m:\n\u001B[1;32m    148\u001B[0m     \u001B[38;5;28;01mif\u001B[39;00m \u001B[38;5;28missubclass\u001B[39m(\u001B[38;5;28mcls\u001B[39m, \u001B[38;5;28mtype\u001B[39m):\n",
      "File \u001B[0;32m/Applications/Xcode.app/Contents/Developer/Library/Frameworks/Python3.framework/Versions/3.9/lib/python3.9/copy.py:210\u001B[0m, in \u001B[0;36m_deepcopy_tuple\u001B[0;34m(x, memo, deepcopy)\u001B[0m\n\u001B[1;32m    209\u001B[0m \u001B[38;5;28;01mdef\u001B[39;00m \u001B[38;5;21m_deepcopy_tuple\u001B[39m(x, memo, deepcopy\u001B[38;5;241m=\u001B[39mdeepcopy):\n\u001B[0;32m--> 210\u001B[0m     y \u001B[38;5;241m=\u001B[39m [deepcopy(a, memo) \u001B[38;5;28;01mfor\u001B[39;00m a \u001B[38;5;129;01min\u001B[39;00m x]\n\u001B[1;32m    211\u001B[0m     \u001B[38;5;66;03m# We're not going to put the tuple in the memo, but it's still important we\u001B[39;00m\n\u001B[1;32m    212\u001B[0m     \u001B[38;5;66;03m# check for it, in case the tuple contains recursive mutable structures.\u001B[39;00m\n\u001B[1;32m    213\u001B[0m     \u001B[38;5;28;01mtry\u001B[39;00m:\n",
      "File \u001B[0;32m/Applications/Xcode.app/Contents/Developer/Library/Frameworks/Python3.framework/Versions/3.9/lib/python3.9/copy.py:210\u001B[0m, in \u001B[0;36m<listcomp>\u001B[0;34m(.0)\u001B[0m\n\u001B[1;32m    209\u001B[0m \u001B[38;5;28;01mdef\u001B[39;00m \u001B[38;5;21m_deepcopy_tuple\u001B[39m(x, memo, deepcopy\u001B[38;5;241m=\u001B[39mdeepcopy):\n\u001B[0;32m--> 210\u001B[0m     y \u001B[38;5;241m=\u001B[39m [\u001B[43mdeepcopy\u001B[49m\u001B[43m(\u001B[49m\u001B[43ma\u001B[49m\u001B[43m,\u001B[49m\u001B[43m \u001B[49m\u001B[43mmemo\u001B[49m\u001B[43m)\u001B[49m \u001B[38;5;28;01mfor\u001B[39;00m a \u001B[38;5;129;01min\u001B[39;00m x]\n\u001B[1;32m    211\u001B[0m     \u001B[38;5;66;03m# We're not going to put the tuple in the memo, but it's still important we\u001B[39;00m\n\u001B[1;32m    212\u001B[0m     \u001B[38;5;66;03m# check for it, in case the tuple contains recursive mutable structures.\u001B[39;00m\n\u001B[1;32m    213\u001B[0m     \u001B[38;5;28;01mtry\u001B[39;00m:\n",
      "File \u001B[0;32m/Applications/Xcode.app/Contents/Developer/Library/Frameworks/Python3.framework/Versions/3.9/lib/python3.9/copy.py:146\u001B[0m, in \u001B[0;36mdeepcopy\u001B[0;34m(x, memo, _nil)\u001B[0m\n\u001B[1;32m    144\u001B[0m copier \u001B[38;5;241m=\u001B[39m _deepcopy_dispatch\u001B[38;5;241m.\u001B[39mget(\u001B[38;5;28mcls\u001B[39m)\n\u001B[1;32m    145\u001B[0m \u001B[38;5;28;01mif\u001B[39;00m copier \u001B[38;5;129;01mis\u001B[39;00m \u001B[38;5;129;01mnot\u001B[39;00m \u001B[38;5;28;01mNone\u001B[39;00m:\n\u001B[0;32m--> 146\u001B[0m     y \u001B[38;5;241m=\u001B[39m \u001B[43mcopier\u001B[49m\u001B[43m(\u001B[49m\u001B[43mx\u001B[49m\u001B[43m,\u001B[49m\u001B[43m \u001B[49m\u001B[43mmemo\u001B[49m\u001B[43m)\u001B[49m\n\u001B[1;32m    147\u001B[0m \u001B[38;5;28;01melse\u001B[39;00m:\n\u001B[1;32m    148\u001B[0m     \u001B[38;5;28;01mif\u001B[39;00m \u001B[38;5;28missubclass\u001B[39m(\u001B[38;5;28mcls\u001B[39m, \u001B[38;5;28mtype\u001B[39m):\n",
      "File \u001B[0;32m/Applications/Xcode.app/Contents/Developer/Library/Frameworks/Python3.framework/Versions/3.9/lib/python3.9/copy.py:217\u001B[0m, in \u001B[0;36m_deepcopy_tuple\u001B[0;34m(x, memo, deepcopy)\u001B[0m\n\u001B[1;32m    215\u001B[0m \u001B[38;5;28;01mexcept\u001B[39;00m \u001B[38;5;167;01mKeyError\u001B[39;00m:\n\u001B[1;32m    216\u001B[0m     \u001B[38;5;28;01mpass\u001B[39;00m\n\u001B[0;32m--> 217\u001B[0m \u001B[38;5;28;01mfor\u001B[39;00m k, j \u001B[38;5;129;01min\u001B[39;00m \u001B[38;5;28mzip\u001B[39m(x, y):\n\u001B[1;32m    218\u001B[0m     \u001B[38;5;28;01mif\u001B[39;00m k \u001B[38;5;129;01mis\u001B[39;00m \u001B[38;5;129;01mnot\u001B[39;00m j:\n\u001B[1;32m    219\u001B[0m         y \u001B[38;5;241m=\u001B[39m \u001B[38;5;28mtuple\u001B[39m(y)\n",
      "\u001B[0;31mKeyboardInterrupt\u001B[0m: "
     ]
    }
   ],
   "execution_count": 17
  },
  {
   "metadata": {
    "ExecuteTime": {
     "end_time": "2024-11-28T18:16:44.923082Z",
     "start_time": "2024-11-28T18:16:44.919129Z"
    }
   },
   "cell_type": "code",
   "source": [
    "# loaded_array = np.load('H2O_Bliss_params.npy')\n",
    "# print(loaded_array)"
   ],
   "id": "35ccd49d15b9a960",
   "outputs": [],
   "execution_count": 25
  },
  {
   "metadata": {
    "ExecuteTime": {
     "end_time": "2024-11-29T06:44:35.134203Z",
     "start_time": "2024-11-29T06:42:21.679572Z"
    }
   },
   "cell_type": "code",
   "source": [
    "res = minimize(bliss_cost_fn, res.x, args=(commutator, num_modes, num_elec,), method='BFGS',\n",
    "               options={'gtol': 1e-30, 'disp': True, 'maxiter': 30}, callback=lambda xk: callback(xk, commutator, num_modes, num_elec,))"
   ],
   "id": "29a803b31dce75c6",
   "outputs": [
    {
     "name": "stdout",
     "output_type": "stream",
     "text": [
      "Current 1-Norm: 1.4637247999247538\n",
      "Current 1-Norm: 1.4637239716736243\n",
      "Current 1-Norm: 1.4637230486164357\n",
      "Current 1-Norm: 1.4637228571782959\n",
      "Current 1-Norm: 1.4637227202861416\n",
      "Current 1-Norm: 1.4637225531626201\n",
      "Current 1-Norm: 1.4637222878129816\n",
      "Current 1-Norm: 1.4637218540768837\n",
      "Current 1-Norm: 1.4637211472210785\n",
      "Current 1-Norm: 1.4637210807340042\n",
      "Current 1-Norm: 1.4637210612462968\n",
      "Current 1-Norm: 1.4637210449582199\n",
      "Current 1-Norm: 1.4637210095876425\n",
      "Current 1-Norm: 1.463720945174511\n",
      "Current 1-Norm: 1.4637208288631942\n",
      "Current 1-Norm: 1.4637198169179872\n",
      "Current 1-Norm: 1.463717893056038\n",
      "Current 1-Norm: 1.4637161514552184\n",
      "Current 1-Norm: 1.4637157041250886\n",
      "Current 1-Norm: 1.4637134271998715\n",
      "         Current function value: 1.463713\n",
      "         Iterations: 20\n",
      "         Function evaluations: 2436\n",
      "         Gradient evaluations: 101\n"
     ]
    },
    {
     "name": "stderr",
     "output_type": "stream",
     "text": [
      "/Users/rick/PycharmProjects/croor/.venv/lib/python3.9/site-packages/scipy/optimize/_minimize.py:708: OptimizeWarning: Desired error not necessarily achieved due to precision loss.\n",
      "  res = _minimize_bfgs(fun, x0, args, jac, callback, **options)\n"
     ]
    }
   ],
   "execution_count": 15
  },
  {
   "metadata": {
    "ExecuteTime": {
     "end_time": "2024-11-28T06:58:17.201980Z",
     "start_time": "2024-11-28T06:58:17.169287Z"
    }
   },
   "cell_type": "code",
   "source": "np.save('H2O_Bliss_params.npy', res.x)",
   "id": "c02b9875f79df67c",
   "outputs": [],
   "execution_count": 36
  },
  {
   "metadata": {
    "ExecuteTime": {
     "end_time": "2024-11-29T06:44:47.359422Z",
     "start_time": "2024-11-29T06:44:47.317568Z"
    }
   },
   "cell_type": "code",
   "source": [
    "# bliss_output = bliss_three_body(commutator, N, N//2)\n",
    "bliss_output = blissed_H(res.x, commutator, num_modes, num_elec)\n",
    "print(\"BLISS Complete. Obtained in Fermion and Qubit space\")\n",
    "with open(f'commutator_store/{moltag}_commutator_blissed.pkl', 'wb') as f:\n",
    "    pickle.dump(bliss_output, f)"
   ],
   "id": "3571f7bf1691a2d1",
   "outputs": [
    {
     "name": "stdout",
     "output_type": "stream",
     "text": [
      "BLISS Complete. Obtained in Fermion and Qubit space\n"
     ]
    }
   ],
   "execution_count": 16
  },
  {
   "metadata": {
    "ExecuteTime": {
     "end_time": "2024-12-04T20:36:41.431190Z",
     "start_time": "2024-12-04T20:36:41.426396Z"
    }
   },
   "cell_type": "code",
   "source": [
    "import h5py\n",
    "from utils.physicist_to_chemist import physicist_to_chemist, chemist_ferm_to_tensor"
   ],
   "id": "acf1f29fa9afa731",
   "outputs": [],
   "execution_count": 19
  },
  {
   "metadata": {
    "ExecuteTime": {
     "end_time": "2024-12-04T20:36:41.894421Z",
     "start_time": "2024-12-04T20:36:41.891343Z"
    }
   },
   "cell_type": "code",
   "source": [
    "commutator_phy = physicist_to_chemist(commutator)\n",
    "obt, tbt, threebt = chemist_ferm_to_tensor(commutator_phy, num_modes//2)"
   ],
   "id": "36e44b671c3d0cff",
   "outputs": [],
   "execution_count": 20
  },
  {
   "metadata": {
    "ExecuteTime": {
     "end_time": "2024-12-04T20:36:43.187897Z",
     "start_time": "2024-12-04T20:36:43.157530Z"
    }
   },
   "cell_type": "code",
   "source": [
    "# Open or create an HDF5 file\n",
    "with h5py.File(f\"{moltag}_commutator_tensors.h5\", \"w\") as fid:\n",
    "\n",
    "    # Create another group named \"BLISS_HAM\"\n",
    "    mol_data_group = fid.create_group(\"BLISS_HAM\")\n",
    "\n",
    "    mol_data_group[\"h_const\"] = 0\n",
    "    mol_data_group[\"obt\"] = obt\n",
    "    mol_data_group[\"tbt\"] = tbt\n",
    "    mol_data_group[\"threebt\"] = threebt  # Assuming this is intentional duplication\n",
    "    mol_data_group[\"eta\"] = num_elec  # Replace with actual num_electrons value"
   ],
   "id": "7a6e5dd4e12c5065",
   "outputs": [],
   "execution_count": 21
  },
  {
   "metadata": {
    "ExecuteTime": {
     "end_time": "2024-11-29T00:17:46.361113Z",
     "start_time": "2024-11-29T00:17:46.354461Z"
    }
   },
   "cell_type": "code",
   "source": [
    "from openfermion import *\n",
    "ferm_op = FermionOperator(\"0^ 1^ 3 2\") + FermionOperator('2^ 3^ 1 0')\n",
    "Hqub = jordan_wigner(ferm_op)"
   ],
   "id": "2926f03378559ac8",
   "outputs": [],
   "execution_count": 15
  },
  {
   "metadata": {
    "ExecuteTime": {
     "end_time": "2024-11-29T00:17:46.718459Z",
     "start_time": "2024-11-29T00:17:46.713180Z"
    }
   },
   "cell_type": "code",
   "source": [
    "for term in Hqub.terms:\n",
    "    print(Hqub.terms[term])"
   ],
   "id": "4b2b70c61440f615",
   "outputs": [
    {
     "name": "stdout",
     "output_type": "stream",
     "text": [
      "(0.125+0j)\n",
      "(0.125+0j)\n",
      "(-0.125+0j)\n",
      "(0.125+0j)\n",
      "(0.125+0j)\n",
      "(-0.125+0j)\n",
      "(0.125+0j)\n",
      "(0.125+0j)\n"
     ]
    }
   ],
   "execution_count": 16
  },
  {
   "metadata": {
    "ExecuteTime": {
     "end_time": "2024-11-29T00:17:47.284057Z",
     "start_time": "2024-11-29T00:17:47.280680Z"
    }
   },
   "cell_type": "code",
   "source": "sorted_terms = sorted(Hqub.terms, key=lambda x: np.abs(Hqub.terms[x]), reverse=True)",
   "id": "cf4375d982497410",
   "outputs": [],
   "execution_count": 17
  },
  {
   "metadata": {
    "ExecuteTime": {
     "end_time": "2024-11-29T00:17:47.797490Z",
     "start_time": "2024-11-29T00:17:47.793569Z"
    }
   },
   "cell_type": "code",
   "source": "print(sorted_terms)",
   "id": "c5fe5bbfd5734a6",
   "outputs": [
    {
     "name": "stdout",
     "output_type": "stream",
     "text": [
      "[((0, 'Y'), (1, 'X'), (2, 'Y'), (3, 'X')), ((0, 'Y'), (1, 'X'), (2, 'X'), (3, 'Y')), ((0, 'Y'), (1, 'Y'), (2, 'X'), (3, 'X')), ((0, 'Y'), (1, 'Y'), (2, 'Y'), (3, 'Y')), ((0, 'X'), (1, 'X'), (2, 'X'), (3, 'X')), ((0, 'X'), (1, 'X'), (2, 'Y'), (3, 'Y')), ((0, 'X'), (1, 'Y'), (2, 'Y'), (3, 'X')), ((0, 'X'), (1, 'Y'), (2, 'X'), (3, 'Y'))]\n"
     ]
    }
   ],
   "execution_count": 18
  },
  {
   "metadata": {
    "ExecuteTime": {
     "end_time": "2024-11-29T00:17:48.232915Z",
     "start_time": "2024-11-29T00:17:48.228296Z"
    }
   },
   "cell_type": "code",
   "source": [
    "def qubit_wise_commute(this, other):\n",
    "    qubit_term = {} #Dictionary of qubit terms in self.\n",
    "    for qub in range(this.n_qubit):\n",
    "        cur_qub_term = (this.binary[qub], this.binary[qub + this.n_qubit]) \n",
    "        if cur_qub_term != (0, 0):\n",
    "            qubit_term[qub] = cur_qub_term\n",
    "    \n",
    "    for qub in range(other.n_qubit):\n",
    "        cur_qub_term = (other.binary[qub], other.binary[qub + this.n_qubit]) \n",
    "        if cur_qub_term != (0, 0):\n",
    "            if qub in qubit_term:\n",
    "                if qubit_term[qub] != cur_qub_term: return False\n",
    "    return True"
   ],
   "id": "9bc30e92c6107e65",
   "outputs": [],
   "execution_count": 19
  },
  {
   "metadata": {
    "ExecuteTime": {
     "end_time": "2024-11-29T00:17:48.645709Z",
     "start_time": "2024-11-29T00:17:48.642322Z"
    }
   },
   "cell_type": "code",
   "source": [
    "def term_commutes_with_group(term, group):\n",
    "    '''\n",
    "    Returns if term commutes with a group of terms.\n",
    "    '''\n",
    "    commute = True\n",
    "    for group_term in group:\n",
    "        commute = qubit_wise_commute(term, group_term)\n",
    "        if not (commute): break\n",
    "    return commute"
   ],
   "id": "34a10f3d66547ccf",
   "outputs": [],
   "execution_count": 20
  },
  {
   "metadata": {
    "ExecuteTime": {
     "end_time": "2024-11-29T00:18:56.785317Z",
     "start_time": "2024-11-29T00:18:56.775445Z"
    }
   },
   "cell_type": "code",
   "source": [
    "from paulis import PauliString\n",
    "groups = []\n",
    "for term in sorted_terms:\n",
    "    pauli_str = PauliString(term)\n",
    "    print(pauli_str)\n",
    "    found_group = False\n",
    "    for idx, group in enumerate(groups):\n",
    "        commute = True\n",
    "        for paulistring in group:\n",
    "            group_pauli = PauliString(paulistring)\n",
    "            print(PauliString)\n",
    "            commute = pauli_str.qubit_wise_commute(group_pauli)\n",
    "        if commute:\n",
    "            groups[idx].append(term)\n",
    "            ground_group = True\n",
    "            break\n",
    "    if not found_group: groups.append([term,])\n",
    "print(groups)"
   ],
   "id": "2e8901f849301821",
   "outputs": [
    {
     "name": "stdout",
     "output_type": "stream",
     "text": [
      "{0: 'Y', 1: 'X', 2: 'Y', 3: 'X'}\n",
      "{0: 'Y', 1: 'X', 2: 'X', 3: 'Y'}\n",
      "<class 'paulis.PauliString'>\n",
      "{0: 'Y', 1: 'Y', 2: 'X', 3: 'X'}\n",
      "<class 'paulis.PauliString'>\n",
      "<class 'paulis.PauliString'>\n",
      "{0: 'Y', 1: 'Y', 2: 'Y', 3: 'Y'}\n",
      "<class 'paulis.PauliString'>\n",
      "<class 'paulis.PauliString'>\n",
      "<class 'paulis.PauliString'>\n",
      "{0: 'X', 1: 'X', 2: 'X', 3: 'X'}\n",
      "<class 'paulis.PauliString'>\n",
      "<class 'paulis.PauliString'>\n",
      "<class 'paulis.PauliString'>\n",
      "<class 'paulis.PauliString'>\n",
      "{0: 'X', 1: 'X', 2: 'Y', 3: 'Y'}\n",
      "<class 'paulis.PauliString'>\n",
      "<class 'paulis.PauliString'>\n",
      "<class 'paulis.PauliString'>\n",
      "<class 'paulis.PauliString'>\n",
      "<class 'paulis.PauliString'>\n",
      "{0: 'X', 1: 'Y', 2: 'Y', 3: 'X'}\n",
      "<class 'paulis.PauliString'>\n",
      "<class 'paulis.PauliString'>\n",
      "<class 'paulis.PauliString'>\n",
      "<class 'paulis.PauliString'>\n",
      "<class 'paulis.PauliString'>\n",
      "<class 'paulis.PauliString'>\n",
      "{0: 'X', 1: 'Y', 2: 'X', 3: 'Y'}\n",
      "<class 'paulis.PauliString'>\n",
      "<class 'paulis.PauliString'>\n",
      "<class 'paulis.PauliString'>\n",
      "<class 'paulis.PauliString'>\n",
      "<class 'paulis.PauliString'>\n",
      "<class 'paulis.PauliString'>\n",
      "<class 'paulis.PauliString'>\n",
      "[[((0, 'Y'), (1, 'X'), (2, 'Y'), (3, 'X'))], [((0, 'Y'), (1, 'X'), (2, 'X'), (3, 'Y'))], [((0, 'Y'), (1, 'Y'), (2, 'X'), (3, 'X'))], [((0, 'Y'), (1, 'Y'), (2, 'Y'), (3, 'Y'))], [((0, 'X'), (1, 'X'), (2, 'X'), (3, 'X'))], [((0, 'X'), (1, 'X'), (2, 'Y'), (3, 'Y'))], [((0, 'X'), (1, 'Y'), (2, 'Y'), (3, 'X'))], [((0, 'X'), (1, 'Y'), (2, 'X'), (3, 'Y'))]]\n"
     ]
    }
   ],
   "execution_count": 26
  },
  {
   "metadata": {
    "ExecuteTime": {
     "end_time": "2024-11-29T00:19:13.374799Z",
     "start_time": "2024-11-29T00:19:13.367151Z"
    }
   },
   "cell_type": "code",
   "source": [
    "decomp = []\n",
    "for group in groups:\n",
    "    qubit_op = QubitOperator()\n",
    "    for paulistring in group:\n",
    "        qubit_op += PauliString(paulistring).to_qubit_operator()\n",
    "    \n",
    "    decomp.append(qubit_op)"
   ],
   "id": "d82994513c30d6b5",
   "outputs": [],
   "execution_count": 27
  },
  {
   "metadata": {
    "ExecuteTime": {
     "end_time": "2024-11-29T00:19:20.717617Z",
     "start_time": "2024-11-29T00:19:20.710838Z"
    }
   },
   "cell_type": "code",
   "source": "print(decomp)",
   "id": "64610be2a587ac36",
   "outputs": [
    {
     "name": "stdout",
     "output_type": "stream",
     "text": [
      "[1.0 [Y0 X1 Y2 X3], 1.0 [Y0 X1 X2 Y3], 1.0 [Y0 Y1 X2 X3], 1.0 [Y0 Y1 Y2 Y3], 1.0 [X0 X1 X2 X3], 1.0 [X0 X1 Y2 Y3], 1.0 [X0 Y1 Y2 X3], 1.0 [X0 Y1 X2 Y3]]\n"
     ]
    }
   ],
   "execution_count": 28
  },
  {
   "metadata": {
    "ExecuteTime": {
     "end_time": "2024-11-28T23:56:00.060307Z",
     "start_time": "2024-11-28T23:56:00.052755Z"
    }
   },
   "cell_type": "code",
   "source": [
    "for i in groups:\n",
    "    print(i)"
   ],
   "id": "b99630dd7cd98dbd",
   "outputs": [
    {
     "name": "stdout",
     "output_type": "stream",
     "text": [
      "[((0, 'Y'), (1, 'X'), (2, 'Y'), (3, 'X'))]\n",
      "[((0, 'Y'), (1, 'X'), (2, 'X'), (3, 'Y'))]\n",
      "[((0, 'Y'), (1, 'Y'), (2, 'X'), (3, 'X'))]\n",
      "[((0, 'Y'), (1, 'Y'), (2, 'Y'), (3, 'Y'))]\n",
      "[((0, 'X'), (1, 'X'), (2, 'X'), (3, 'X'))]\n",
      "[((0, 'X'), (1, 'X'), (2, 'Y'), (3, 'Y'))]\n",
      "[((0, 'X'), (1, 'Y'), (2, 'Y'), (3, 'X'))]\n",
      "[((0, 'X'), (1, 'Y'), (2, 'X'), (3, 'Y'))]\n"
     ]
    }
   ],
   "execution_count": 24
  },
  {
   "metadata": {},
   "cell_type": "code",
   "outputs": [],
   "execution_count": null,
   "source": "",
   "id": "c5995ddab8ae01d7"
  }
 ],
 "metadata": {
  "kernelspec": {
   "display_name": "Python 3",
   "language": "python",
   "name": "python3"
  },
  "language_info": {
   "codemirror_mode": {
    "name": "ipython",
    "version": 2
   },
   "file_extension": ".py",
   "mimetype": "text/x-python",
   "name": "python",
   "nbconvert_exporter": "python",
   "pygments_lexer": "ipython2",
   "version": "2.7.6"
  }
 },
 "nbformat": 4,
 "nbformat_minor": 5
}
